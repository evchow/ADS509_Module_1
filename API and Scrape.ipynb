{
 "cells": [
  {
   "cell_type": "markdown",
   "id": "95952cac",
   "metadata": {},
   "source": [
    "# ADS 509 Module 1: APIs and Web Scraping\n",
    "\n",
    "This notebook has three parts. In the first part you will pull data from the Twitter API. In the second, you will scrape lyrics from AZLyrics.com. In the last part, you'll run code that verifies the completeness of your data pull. \n",
    "\n",
    "For this assignment you have chosen two musical artists who have at least 100,000 Twitter followers and 20 songs with lyrics on AZLyrics.com. In this part of the assignment we pull the some of the user information for the followers of your artist and store them in text files. \n"
   ]
  },
  {
   "cell_type": "markdown",
   "id": "4ce62b2b",
   "metadata": {},
   "source": [
    "## Important Note\n",
    "\n",
    "This assignment requires you to have a version of Tweepy that is at least version 4. The latest version is 4.10 as I write this. Critically, this version of Tweepy is *not* on the upgrade path from Version 3, so you will not be able to simply upgrade the package if you are on Version 3. Instead you will need to explicitly install version 4, which you can do with a command like this: `pip install \"tweepy>=4\"`. You will also be using Version 2 of the Twitter API for this assignment. \n",
    "\n",
    "Run the below cell. If your version of Tweepy begins with a \"4\", then you should be good to go. If it begins with a \"3\" then run the following command, found [here](https://stackoverflow.com/questions/5226311/installing-specific-package-version-with-pip), at the command line or in a cell: `pip install -Iv tweepy==4.9`. (You may want to update that version number if Tweepy has moved on past 4.9. "
   ]
  },
  {
   "cell_type": "code",
   "execution_count": 1,
   "id": "84ee7256",
   "metadata": {},
   "outputs": [
    {
     "name": "stdout",
     "output_type": "stream",
     "text": [
      "\u001b[33mWARNING: Ignoring invalid distribution -andas (/opt/anaconda3/lib/python3.8/site-packages)\u001b[0m\n",
      "\u001b[33mWARNING: Ignoring invalid distribution -andas (/opt/anaconda3/lib/python3.8/site-packages)\u001b[0m\n",
      "Requirement already satisfied: tweepy>=4 in /opt/anaconda3/lib/python3.8/site-packages (4.10.1)\n",
      "Requirement already satisfied: requests<3,>=2.27.0 in /opt/anaconda3/lib/python3.8/site-packages (from tweepy>=4) (2.28.1)\n",
      "Requirement already satisfied: requests-oauthlib<2,>=1.2.0 in /opt/anaconda3/lib/python3.8/site-packages (from tweepy>=4) (1.3.1)\n",
      "Requirement already satisfied: oauthlib<4,>=3.2.0 in /opt/anaconda3/lib/python3.8/site-packages (from tweepy>=4) (3.2.1)\n",
      "Requirement already satisfied: charset-normalizer<3,>=2 in /opt/anaconda3/lib/python3.8/site-packages (from requests<3,>=2.27.0->tweepy>=4) (2.1.1)\n",
      "Requirement already satisfied: urllib3<1.27,>=1.21.1 in /opt/anaconda3/lib/python3.8/site-packages (from requests<3,>=2.27.0->tweepy>=4) (1.26.6)\n",
      "Requirement already satisfied: certifi>=2017.4.17 in /opt/anaconda3/lib/python3.8/site-packages (from requests<3,>=2.27.0->tweepy>=4) (2022.6.15)\n",
      "Requirement already satisfied: idna<4,>=2.5 in /opt/anaconda3/lib/python3.8/site-packages (from requests<3,>=2.27.0->tweepy>=4) (2.10)\n",
      "\u001b[33mWARNING: Ignoring invalid distribution -andas (/opt/anaconda3/lib/python3.8/site-packages)\u001b[0m\n",
      "\u001b[33mWARNING: Ignoring invalid distribution -andas (/opt/anaconda3/lib/python3.8/site-packages)\u001b[0m\n",
      "\u001b[33mWARNING: Ignoring invalid distribution -andas (/opt/anaconda3/lib/python3.8/site-packages)\u001b[0m\n",
      "\u001b[33mWARNING: Ignoring invalid distribution -andas (/opt/anaconda3/lib/python3.8/site-packages)\u001b[0m\n"
     ]
    }
   ],
   "source": [
    "# let's install the appropriate version of tweepy\n",
    "!pip install \"tweepy>=4\""
   ]
  },
  {
   "cell_type": "code",
   "execution_count": 2,
   "id": "23cf2158",
   "metadata": {},
   "outputs": [
    {
     "name": "stdout",
     "output_type": "stream",
     "text": [
      "\u001b[33mWARNING: Ignoring invalid distribution -andas (/opt/anaconda3/lib/python3.8/site-packages)\u001b[0m\n",
      "Name: tweepy\n",
      "Version: 4.10.1\n",
      "Summary: Twitter library for Python\n",
      "Home-page: https://www.tweepy.org/\n",
      "Author: Joshua Roesslein\n",
      "Author-email: tweepy@googlegroups.com\n",
      "License: MIT\n",
      "Location: /opt/anaconda3/lib/python3.8/site-packages\n",
      "Requires: requests, oauthlib, requests-oauthlib\n",
      "Required-by: \n"
     ]
    }
   ],
   "source": [
    "# verify tweepy version\n",
    "!pip show tweepy"
   ]
  },
  {
   "cell_type": "markdown",
   "id": "91c8969e",
   "metadata": {},
   "source": [
    "# Twitter API Pull"
   ]
  },
  {
   "cell_type": "code",
   "execution_count": 3,
   "id": "185076b0",
   "metadata": {},
   "outputs": [],
   "source": [
    "# for the twitter section\n",
    "import tweepy\n",
    "import os\n",
    "import datetime\n",
    "import re\n",
    "from pprint import pprint\n",
    "\n",
    "# for the lyrics scrape section\n",
    "import requests\n",
    "import time\n",
    "from bs4 import BeautifulSoup\n",
    "from collections import defaultdict, Counter\n"
   ]
  },
  {
   "cell_type": "code",
   "execution_count": 4,
   "id": "a47e2d5f",
   "metadata": {},
   "outputs": [],
   "source": [
    "# Use this cell for any import statements you add\n",
    "import random\n",
    "import pandas as pd"
   ]
  },
  {
   "cell_type": "markdown",
   "id": "c21c86ec",
   "metadata": {},
   "source": [
    "We need bring in our API keys. Since API keys should be kept secret, we'll keep them in a file called `api_keys.py`. This file should be stored in the directory where you store this notebook. The example file is provided for you on Blackboard. The example has API keys that are _not_ functional, so you'll need to get Twitter credentials and replace the placeholder keys. "
   ]
  },
  {
   "cell_type": "code",
   "execution_count": 5,
   "id": "f01bdec6",
   "metadata": {},
   "outputs": [],
   "source": [
    "# contents of api_keys.py will be hidden from repository to maintain secrecy\n",
    "# api_keys.py was created manually with API keys copied over\n",
    "from api_keys import api_key, api_key_secret, bearer_token"
   ]
  },
  {
   "cell_type": "code",
   "execution_count": 6,
   "id": "d08eb1fd",
   "metadata": {},
   "outputs": [],
   "source": [
    "client = tweepy.Client(bearer_token,wait_on_rate_limit=True)"
   ]
  },
  {
   "cell_type": "markdown",
   "id": "6aa67032",
   "metadata": {},
   "source": [
    "# Testing the API\n",
    "\n",
    "The Twitter APIs are quite rich. Let's play around with some of the features before we dive into this section of the assignment. For our testing, it's convenient to have a small data set to play with. We will seed the code with the handle of John Chandler, one of the instructors in this course. His handle is `@37chandler`. Feel free to use a different handle if you would like to look at someone else's data. \n",
    "\n",
    "We will write code to explore a few aspects of the API: \n",
    "\n",
    "1. Pull some of the followers @37chandler.\n",
    "1. Explore response data, which gives us information about Twitter users. \n",
    "1. Pull the last few tweets by @37chandler.\n"
   ]
  },
  {
   "cell_type": "code",
   "execution_count": 7,
   "id": "76cf6447",
   "metadata": {},
   "outputs": [
    {
     "name": "stderr",
     "output_type": "stream",
     "text": [
      "Rate limit exceeded. Sleeping for 405 seconds.\n"
     ]
    }
   ],
   "source": [
    "# this identifies the twitter handle we'll be basing our pulls from\n",
    "handle = \"37chandler\"\n",
    "user_obj = client.get_user(username=handle)\n",
    "\n",
    "# see https://docs.tweepy.org/en/v4.0.1/client.html\n",
    "# client.get_users_followers retrieves follower data of specified handle\n",
    "followers = client.get_users_followers(\n",
    "    # Learn about user fields here: \n",
    "    # https://developer.twitter.com/en/docs/twitter-api/data-dictionary/object-model/user\n",
    "    user_obj.data.id, user_fields=[\"created_at\",\"description\",\"location\",\n",
    "                                   \"public_metrics\"]\n",
    ")\n",
    "\n"
   ]
  },
  {
   "cell_type": "markdown",
   "id": "de7892a4",
   "metadata": {},
   "source": [
    "Now let's explore these a bit. We'll start by printing out names, locations, following count, and followers count for these users. "
   ]
  },
  {
   "cell_type": "code",
   "execution_count": 8,
   "id": "c48d6bc9",
   "metadata": {},
   "outputs": [
    {
     "name": "stdout",
     "output_type": "stream",
     "text": [
      "Dave Renn lists 'None' as their location.\n",
      " Following: 44, Followers: 10.\n",
      "\n",
      "Lionel lists 'None' as their location.\n",
      " Following: 202, Followers: 204.\n",
      "\n",
      "Megan Randall lists 'None' as their location.\n",
      " Following: 141, Followers: 100.\n",
      "\n",
      "Jacob Salzman lists 'None' as their location.\n",
      " Following: 562, Followers: 134.\n",
      "\n",
      "twiter not fun lists 'None' as their location.\n",
      " Following: 221, Followers: 21.\n",
      "\n",
      "Hariettwilsonincarnate lists 'None' as their location.\n",
      " Following: 219, Followers: 61.\n",
      "\n",
      "Christian Tinsley lists 'None' as their location.\n",
      " Following: 2, Followers: 0.\n",
      "\n",
      "Steve lists 'I'm over here.' as their location.\n",
      " Following: 1591, Followers: 33.\n",
      "\n",
      "John O'Connor 🇺🇦 lists 'None' as their location.\n",
      " Following: 8, Followers: 1.\n",
      "\n",
      "CodeGrade lists 'Amsterdam' as their location.\n",
      " Following: 2819, Followers: 425.\n",
      "\n",
      "Cleverhood lists 'Providence, RI' as their location.\n",
      " Following: 2795, Followers: 3561.\n",
      "\n",
      "Regina 🚶‍♀️🚲🌳 lists 'Minneapolis' as their location.\n",
      " Following: 2801, Followers: 3339.\n",
      "\n",
      "Eric Hallstrom lists 'Missoula, MT' as their location.\n",
      " Following: 464, Followers: 305.\n",
      "\n",
      "Tyler 📊 🐕 🚲 lists 'Minneapolis, MN' as their location.\n",
      " Following: 528, Followers: 83.\n",
      "\n",
      "The Center for Community Ownership (CCO) lists 'None' as their location.\n",
      " Following: 53, Followers: 41.\n",
      "\n",
      "Deepak Chauhan lists 'None' as their location.\n",
      " Following: 451, Followers: 25.\n",
      "\n",
      "Patsy lists 'Seattle, WA' as their location.\n",
      " Following: 156, Followers: 15.\n",
      "\n",
      "andrew lists 'St Paul, MN' as their location.\n",
      " Following: 1415, Followers: 461.\n",
      "\n",
      "Ada Smith lists 'None' as their location.\n",
      " Following: 274, Followers: 198.\n",
      "\n",
      "Stacey Burns lists 'Minneapolis Witch District' as their location.\n",
      " Following: 4584, Followers: 10884.\n",
      "\n"
     ]
    }
   ],
   "source": [
    "num_to_print = 20\n",
    "\n",
    "for idx, user in enumerate(followers.data) :\n",
    "    # let's separate the public_metrics into following and follower counts\n",
    "    following_count = user.public_metrics['following_count']\n",
    "    followers_count = user.public_metrics['followers_count']\n",
    "    \n",
    "    print(f\"{user.name} lists '{user.location}' as their location.\")\n",
    "    print(f\" Following: {following_count}, Followers: {followers_count}.\")\n",
    "    print()\n",
    "    \n",
    "    if idx >= (num_to_print - 1) :\n",
    "        break\n",
    "    "
   ]
  },
  {
   "cell_type": "markdown",
   "id": "8bbfe05f",
   "metadata": {},
   "source": [
    "Let's find the person who follows this handle who has the most followers. "
   ]
  },
  {
   "cell_type": "code",
   "execution_count": 9,
   "id": "bda3eec3",
   "metadata": {},
   "outputs": [
    {
     "name": "stdout",
     "output_type": "stream",
     "text": [
      "WedgeLIVE\n",
      "{'followers_count': 14197, 'following_count': 2221, 'tweet_count': 56123, 'listed_count': 218}\n"
     ]
    }
   ],
   "source": [
    "max_followers = 0\n",
    "\n",
    "for idx, user in enumerate(followers.data) :\n",
    "    followers_count = user.public_metrics['followers_count']\n",
    "    \n",
    "    if followers_count > max_followers :\n",
    "        max_followers = followers_count\n",
    "        max_follower_user = user\n",
    "\n",
    "        \n",
    "print(max_follower_user)\n",
    "print(max_follower_user.public_metrics)"
   ]
  },
  {
   "cell_type": "markdown",
   "id": "2dad0a3f",
   "metadata": {},
   "source": [
    "Let's pull some more user fields and take a look at them. The fields can be specified in the `user_fields` argument. "
   ]
  },
  {
   "cell_type": "code",
   "execution_count": 10,
   "id": "0432bbb7",
   "metadata": {},
   "outputs": [],
   "source": [
    "response = client.get_user(id=user_obj.data.id,\n",
    "                          user_fields=[\"created_at\",\"description\",\"location\",\n",
    "                                       \"entities\",\"name\",\"pinned_tweet_id\",\"profile_image_url\",\n",
    "                                       \"verified\",\"public_metrics\"])"
   ]
  },
  {
   "cell_type": "code",
   "execution_count": 11,
   "id": "eb69f9cb",
   "metadata": {},
   "outputs": [
    {
     "name": "stdout",
     "output_type": "stream",
     "text": [
      "for description we have He/Him. Data scientist, urban cyclist, educator, erstwhile frisbee player. \n",
      "\n",
      "¯\\_(ツ)_/¯\n",
      "for username we have 37chandler\n",
      "for verified we have False\n",
      "for location we have MN\n",
      "for name we have John Chandler\n",
      "for id we have 33029025\n",
      "for created_at we have 2009-04-18 22:08:22+00:00\n",
      "for profile_image_url we have https://pbs.twimg.com/profile_images/2680483898/b30ae76f909352dbae5e371fb1c27454_normal.png\n",
      "for public_metrics we have {'followers_count': 192, 'following_count': 589, 'tweet_count': 997, 'listed_count': 3}\n"
     ]
    }
   ],
   "source": [
    "for field, value in response.data.items() :\n",
    "    print(f\"for {field} we have {value}\")"
   ]
  },
  {
   "cell_type": "markdown",
   "id": "6abc5dc6",
   "metadata": {},
   "source": [
    "Now a few questions for you about the user object.\n",
    "\n",
    "Q: How many fields are being returned in the `response` object? \n",
    "\n",
    "A: We have nine fields being returned in the `response` object. One of the fields (\"public_metrics\") returns four subfields.\n",
    "\n",
    "---\n",
    "\n",
    "Q: Are any of the fields within the user object non-scalar? (I.e., more complicated than a simple data type like integer, float, string, boolean, etc.) \n",
    "\n",
    "A: Yes, one of the fields (\"profile_image_url\") returns a url for a profile image.\n",
    "\n",
    "---\n",
    "\n",
    "Q: How many friends, followers, and tweets does this user have? \n",
    "\n",
    "A: This user has 589 friends, 192 followers, and 997 tweets.\n"
   ]
  },
  {
   "cell_type": "markdown",
   "id": "d8564d2c",
   "metadata": {},
   "source": [
    "Although you won't need it for this assignment, individual tweets can be a rich source of text-based data. To illustrate the concepts, let's look at the last few tweets for this user. You are encouraged to explore the fields that are available about Tweets."
   ]
  },
  {
   "cell_type": "code",
   "execution_count": 12,
   "id": "70b8e93a",
   "metadata": {},
   "outputs": [
    {
     "name": "stdout",
     "output_type": "stream",
     "text": [
      "1569760631548690437\n",
      "RT @dtmooreeditor: So there's a particular quirk of English grammar that I've always found quite endearing: the exocentric verb-noun compou…\n",
      "\n",
      "1569155273742327811\n",
      "As a Minneapolis person, I knew we had Toronto beat, but I didn't realize Portland had us beat: https://t.co/xrx5mOFcWK.\n",
      "\n",
      "But @nytimes, c'mon! https://t.co/M9mBWhdgsj\n",
      "\n",
      "1568982292923826176\n",
      "RT @wonderofscience: Amazing lenticular cloud over Mount Fuji\n",
      "\n",
      "Credit: Iurie Belegurschi\n",
      "https://t.co/0mUxl28H9U\n",
      "\n",
      "1568242374085869570\n",
      "RT @depthsofwiki: lots of memes about speedy wikipedia editors — quick thread about what went down on wikipedia in the minutes after her de…\n",
      "\n",
      "1568074978754703361\n",
      "@DrLaurenWilson @leighradwood @MaritsaGeorgiou @Walgreens I could not possibly agree more with this sentiment. Compared to almost any other primary care I've received, they are great.\n",
      "\n",
      "1567530169686196224\n",
      "@DrLaurenWilson @MaritsaGeorgiou @Walgreens For those who have access to Curry Health Center on campus, you can get a bivalent booster in 15 minutes from their delightful staff.\n",
      "\n",
      "1567511181526708224\n",
      "RT @shes_the_maNN1: I can’t describe how ancient this makes me feel. https://t.co/a1IvELjOFY\n",
      "\n",
      "1567510612665864193\n",
      "RT @AngryBlackLady: this is hilarious\n",
      "\n",
      "1566031636457725953\n",
      "RT @MarkJacob16: With all the arguments over whether MAGA Republicans are fascists, I reread William Shirer’s “The Rise and Fall of the Thi…\n",
      "\n",
      "1563737816219000832\n",
      "RT @wonderofscience: The Milky Way galaxy and a phenomenon known as \"airglow\" seen from the International Space Station. https://t.co/bOLt8…\n",
      "\n"
     ]
    }
   ],
   "source": [
    "# see https://docs.tweepy.org/en/v4.0.1/client.html\n",
    "# this retrieves tweets from specified handle (user_obj.data.id)\n",
    "response = client.get_users_tweets(user_obj.data.id)\n",
    "\n",
    "# By default, only the ID and text fields of each Tweet will be returned\n",
    "for idx, tweet in enumerate(response.data) :\n",
    "    print(tweet.id)\n",
    "    print(tweet.text)\n",
    "    print()\n",
    "    \n",
    "    # the following indicates that when the idx iteration is greater than 10 -> stop\n",
    "    if idx > 10 :\n",
    "        break"
   ]
  },
  {
   "cell_type": "markdown",
   "id": "66d50726",
   "metadata": {},
   "source": [
    "## Pulling Follower Information\n",
    "\n",
    "In this next section of the assignment, we will pull information about the followers of your two artists. We've seen above how to pull a set of followers using `client.get_users_followers`. This function has a parameter, `max_results`, that we can use to change the number of followers that we pull. Unfortunately, we can only pull 1000 followers at a time, which means we will need to handle the _pagination_ of our results. \n",
    "\n",
    "The return object has the `.data` field, where the results will be found. It also has `.meta`, which we use to select the next \"page\" in the results using the `next_token` result. I will illustrate the ideas using our user from above. \n",
    "\n",
    "\n",
    "### Rate Limiting\n",
    "\n",
    "Twitter limits the rates at which we can pull data, as detailed in [this guide](https://developer.twitter.com/en/docs/twitter-api/rate-limits). We can make 15 user requests per 15 minutes, meaning that we can pull $4 \\cdot 15 \\cdot 1000 = 60000$ users per hour. I illustrate the handling of rate limiting below, though whether or not you hit that part of the code depends on your value of `handle`.  \n",
    "\n",
    "\n",
    "In the below example, I'll pull all the followers, 25 at a time. (We're using 25 to illustrate the idea; when you do this set the value to 1000.) "
   ]
  },
  {
   "cell_type": "code",
   "execution_count": 13,
   "id": "e5236335",
   "metadata": {},
   "outputs": [],
   "source": [
    "handle_followers = []\n",
    "pulls = 0\n",
    "max_pulls = 100\n",
    "next_token = None\n",
    "\n",
    "while True :\n",
    "\n",
    "    followers = client.get_users_followers(\n",
    "        user_obj.data.id, \n",
    "        max_results=25, # when you do this for real, set this to 1000!\n",
    "        pagination_token = next_token,\n",
    "        user_fields=[\"created_at\",\"description\",\"location\",\n",
    "                     \"entities\",\"name\",\"pinned_tweet_id\",\"profile_image_url\",\n",
    "                     \"verified\",\"public_metrics\"]\n",
    "    )\n",
    "    pulls += 1\n",
    "    \n",
    "    for follower in followers.data : \n",
    "        follower_row = (follower.id,follower.name,follower.created_at,follower.description)\n",
    "        handle_followers.append(follower_row)\n",
    "    \n",
    "    if 'next_token' in followers.meta and pulls < max_pulls :\n",
    "        next_token = followers.meta['next_token']\n",
    "    else : \n",
    "        break\n",
    "        \n",
    "\n"
   ]
  },
  {
   "cell_type": "markdown",
   "id": "9f3ec0e5",
   "metadata": {},
   "source": [
    "## Pulling Twitter Data for Your Artists\n",
    "\n",
    "Now let's take a look at your artists and see how long it is going to take to pull all their followers. "
   ]
  },
  {
   "cell_type": "code",
   "execution_count": 14,
   "id": "6b37383c",
   "metadata": {},
   "outputs": [
    {
     "name": "stdout",
     "output_type": "stream",
     "text": [
      "It would take 24.61 hours to pull all 1476645 followers for MCRofficial. \n",
      "It would take 117.18 hours to pull all 7030860 followers for MissyElliott. \n"
     ]
    }
   ],
   "source": [
    "artists = dict()\n",
    "\n",
    "# this is a for loop to cycle through both MCR and Missy Elliot's twitter handles\n",
    "for handle in ['MCRofficial','MissyElliott'] : \n",
    "    # client.get_user will get info about the handles\n",
    "    # in this case, we're indicating the username to be the handles specified\n",
    "    # the fields we'll retrieve will be info in public_metrics\n",
    "    user_obj = client.get_user(username=handle,user_fields=[\"public_metrics\"])\n",
    "    # this specifies for an artist with a specific handle to generate their id, handle, and follower count\n",
    "    artists[handle] = (user_obj.data.id, \n",
    "                       handle,\n",
    "                       user_obj.data.public_metrics['followers_count'])\n",
    "    \n",
    "# this generates a print statement using info from artists\n",
    "for artist, data in artists.items() : \n",
    "    print(f\"It would take {data[2]/(1000*15*4):.2f} hours to pull all {data[2]} followers for {artist}. \")\n",
    "    "
   ]
  },
  {
   "cell_type": "markdown",
   "id": "dc6ed3f9",
   "metadata": {},
   "source": [
    "Depending on what you see in the display above, you may want to limit how many followers you pull. It'd be great to get at least 200,000 per artist. \n",
    "\n",
    "As we pull data for each artist we will write their data to a folder called \"twitter\", so we will make that folder if needed."
   ]
  },
  {
   "cell_type": "code",
   "execution_count": 15,
   "id": "e3a32641",
   "metadata": {},
   "outputs": [],
   "source": [
    "# Make the \"twitter\" folder here. If you'd like to practice your programming, add functionality \n",
    "# that checks to see if the folder exists. If it does, then \"unlink\" it. Then create a new one.\n",
    "\n",
    "if not os.path.isdir(\"twitter\") : \n",
    "    #shutil.rmtree(\"twitter/\")\n",
    "    os.mkdir(\"twitter\")"
   ]
  },
  {
   "cell_type": "markdown",
   "id": "dd58dd90",
   "metadata": {},
   "source": [
    "In this following cells, build on the above code to pull some of the followers and their data for your two artists. As you pull the data, write the follower ids to a file called `[artist name]_followers.txt` in the \"twitter\" folder. For instance, for Cher I would create a file named `cher_followers.txt`. As you pull the data, also store it in an object like a list or a data frame.\n",
    "\n",
    "In addition to creating a file that only has follower IDs in it, you will create a file that includes user data. From the response object please extract and store the following fields: \n",
    "\n",
    "* screen_name\t\n",
    "* name\t\n",
    "* id\t\n",
    "* location\t\n",
    "* followers_count\t\n",
    "* friends_count\t\n",
    "* description\n",
    "\n",
    "Store the fields with one user per row in a tab-delimited text file with the name `[artist name]_follower_data.txt`. For instance, for Cher I would create a file named `cher_follower_data.txt`. \n",
    "\n",
    "One note: the user's description can have tabs or returns in it, so make sure to clean those out of the description before writing them to the file. I've included some example code to do that below the stub. "
   ]
  },
  {
   "cell_type": "markdown",
   "id": "4df5671e",
   "metadata": {},
   "source": [
    "### Artist 1: My Chemical Romance (@MCRofficial)"
   ]
  },
  {
   "cell_type": "code",
   "execution_count": 16,
   "id": "3d1a1a65",
   "metadata": {},
   "outputs": [
    {
     "name": "stdout",
     "output_type": "stream",
     "text": [
      "Pulling followers for MCRofficial.\n",
      "{'result_count': 1000, 'next_token': 'SL2BRT4RSOP1GZZZ'}\n",
      "{'result_count': 1000, 'next_token': 'RL5MO38R04P1GZZZ', 'previous_token': '7MO6UELJ376UEZZZ'}\n",
      "{'result_count': 1000, 'next_token': 'ERVPBVVABSOHGZZZ', 'previous_token': 'SI7NBTPRVV6UEZZZ'}\n",
      "{'result_count': 1000, 'next_token': 'G4PC5CJAT8O1GZZZ', 'previous_token': 'BSGN3CPKK37EEZZZ'}\n",
      "{'result_count': 1000, 'next_token': 'Q9HJUREOF0O1GZZZ', 'previous_token': 'NNG3ALCU2N7UEZZZ'}\n"
     ]
    },
    {
     "name": "stderr",
     "output_type": "stream",
     "text": [
      "Rate limit exceeded. Sleeping for 896 seconds.\n"
     ]
    },
    {
     "name": "stdout",
     "output_type": "stream",
     "text": [
      "{'result_count': 1000, 'next_token': 'PPJVFNQLSONHGZZZ', 'previous_token': '78G30DHUGV7UEZZZ'}\n",
      "{'result_count': 1000, 'next_token': 'ET64BBB63CNHGZZZ', 'previous_token': 'MCQKDIN6378EEZZZ'}\n",
      "{'result_count': 1000, 'next_token': 'VQ3CLCG0E8N1GZZZ', 'previous_token': 'ANOSE65OSJ8EEZZZ'}\n",
      "{'result_count': 1000, 'next_token': '0CJGSCDGP8MHGZZZ', 'previous_token': 'HC61SB39HR8UEZZZ'}\n",
      "{'result_count': 1000, 'next_token': '114EQD7F1CMHGZZZ', 'previous_token': 'ICR34TJ96N9EEZZZ'}\n",
      "{'result_count': 1000, 'next_token': 'QPP6HU3CHOM1GZZZ', 'previous_token': '7RP16C1FUJ9EEZZZ'}\n",
      "{'result_count': 1000, 'next_token': 'AIHK9NQT2KM1GZZZ', 'previous_token': 'C13IHOTHE79UEZZZ'}\n",
      "{'result_count': 1000, 'next_token': 'UNEQL281BCLHGZZZ', 'previous_token': 'JRICTIT3TB9UEZZZ'}\n",
      "{'result_count': 1000, 'next_token': 'VB7PQ2IQ94L1GZZZ', 'previous_token': 'HP58STCCKNAEEZZZ'}\n",
      "{'result_count': 1000, 'next_token': 'CHF0OQTOSSK1GZZZ', 'previous_token': 'L3M7COLVMRAUEZZZ'}\n",
      "{'result_count': 1000, 'next_token': 'T4PA6D2RQGJHGZZZ', 'previous_token': 'J4L7MNPE37BUEZZZ'}\n",
      "{'result_count': 1000, 'next_token': 'IJH4K3NJG0J1GZZZ', 'previous_token': 'JG5GC75P5FCEEZZZ'}\n",
      "{'result_count': 1000, 'next_token': 'HR202K9J3GIHGZZZ', 'previous_token': 'MTJKC5DFFVCUEZZZ'}\n",
      "{'result_count': 1000, 'next_token': '1FPGLRV7RKHHGZZZ', 'previous_token': '6HSBKKP2SJDEEZZZ'}\n",
      "{'result_count': 1000, 'next_token': 'IELDKGTHPGH1GZZZ', 'previous_token': 'U0P6B04F4BEEEZZZ'}\n"
     ]
    },
    {
     "name": "stderr",
     "output_type": "stream",
     "text": [
      "Rate limit exceeded. Sleeping for 893 seconds.\n"
     ]
    },
    {
     "name": "stdout",
     "output_type": "stream",
     "text": [
      "{'result_count': 1000, 'next_token': '72R0RI3MO4GHGZZZ', 'previous_token': 'C3MD6JQP6FEUEZZZ'}\n",
      "{'result_count': 1000, 'next_token': 'TORE7D0TLSG1GZZZ', 'previous_token': 'MV139T8U7VFEEZZZ'}\n",
      "{'result_count': 1000, 'next_token': 'CLV83VEBL8FHGZZZ', 'previous_token': '2URM95KIA7FUEZZZ'}\n",
      "{'result_count': 1000, 'next_token': 'GJTQ2598IOF1GZZZ', 'previous_token': 'IKFBT026ANGEEZZZ'}\n",
      "{'result_count': 1000, 'next_token': '4G5HFVJOAOEHGZZZ', 'previous_token': 'BO7PUG70D7GUEZZZ'}\n",
      "{'result_count': 1000, 'next_token': 'VBVTJQ2924E1GZZZ', 'previous_token': 'NFI2IUKCL7HEEZZZ'}\n",
      "{'result_count': 1000, 'next_token': '3VDF29FBQOD1GZZZ', 'previous_token': 'P6VJK3ULTRHUEZZZ'}\n",
      "{'result_count': 1000, 'next_token': '1B7PGTOQPOCHGZZZ', 'previous_token': 'NUS44UQM57IUEZZZ'}\n",
      "{'result_count': 1000, 'next_token': 'HR7GU279O4C1GZZZ', 'previous_token': 'NN185F896BJEEZZZ'}\n",
      "{'result_count': 999, 'next_token': 'CJF26SHRLOBHGZZZ', 'previous_token': 'NC40BJH97RJUEZZZ'}\n",
      "{'result_count': 1000, 'next_token': 'SMV6QSV8H8B1GZZZ', 'previous_token': 'U89RVP8DABKEEZZZ'}\n",
      "{'result_count': 1000, 'next_token': 'V422UVRDMCAHGZZZ', 'previous_token': 'CHOKN9H9ENKUEZZZ'}\n",
      "{'result_count': 1000, 'next_token': 'T2QQVT7A28AHGZZZ', 'previous_token': '15ED0ELM9JLEEZZZ'}\n",
      "{'result_count': 1000, 'next_token': '3KA6GAQQKOA1GZZZ', 'previous_token': 'L1IE1G3HTNLEEZZZ'}\n",
      "{'result_count': 1000, 'next_token': '313TJGB9UG9HGZZZ', 'previous_token': 'BDDBH8DOB7LUEZZZ'}\n"
     ]
    },
    {
     "name": "stderr",
     "output_type": "stream",
     "text": [
      "Rate limit exceeded. Sleeping for 892 seconds.\n"
     ]
    },
    {
     "name": "stdout",
     "output_type": "stream",
     "text": [
      "{'result_count': 1000, 'next_token': '981U50VA9O9HGZZZ', 'previous_token': 'EO6I6K4V1FMEEZZZ'}\n",
      "{'result_count': 1000, 'next_token': 'KMHOFHKBJG91GZZZ', 'previous_token': 'FAG6TDGPM7MEEZZZ'}\n",
      "{'result_count': 1000, 'next_token': 'TA0BGS330891GZZZ', 'previous_token': '5OVJ02BOCFMUEZZZ'}\n",
      "{'result_count': 1000, 'next_token': 'TMNUQV5KH88HGZZZ', 'previous_token': 'KRQTHS54VNMUEZZZ'}\n",
      "{'result_count': 1000, 'next_token': 'GH8T13OG0O8HGZZZ', 'previous_token': 'RDQ6P3KIENNEEZZZ'}\n",
      "{'result_count': 1000, 'next_token': 'VKJ5S8KPF081GZZZ', 'previous_token': 'IFRC0AVJV7NEEZZZ'}\n",
      "{'result_count': 1000, 'next_token': 'SRS057OG4C81GZZZ', 'previous_token': 'BRDE3MCHGVNUEZZZ'}\n",
      "{'result_count': 1000, 'next_token': 'G77F72SAOO7HGZZZ', 'previous_token': 'O0PAP67PRJNUEZZZ'}\n",
      "{'result_count': 1000, 'next_token': 'KAKC7N49C47HGZZZ', 'previous_token': 'BIO5EI4877OEEZZZ'}\n",
      "{'result_count': 1000, 'next_token': 'K591EAP13O7HGZZZ', 'previous_token': '42692ADDJROEEZZZ'}\n",
      "{'result_count': 1000, 'next_token': '9TMKM927NK71GZZZ', 'previous_token': 'MIV45RN2S7OEEZZZ'}\n",
      "{'result_count': 1000, 'next_token': '599I0U7Q6071GZZZ', 'previous_token': 'JI3DNQU18BOUEZZZ'}\n",
      "{'result_count': 1000, 'next_token': '4LSA2JVIN06HGZZZ', 'previous_token': 'S28LHHH2PVOUEZZZ'}\n",
      "{'result_count': 1000, 'next_token': '414N5UVR7O6HGZZZ', 'previous_token': 'HE46CDGL8VPEEZZZ'}\n",
      "{'result_count': 1000, 'next_token': '2UMUBT12U861GZZZ', 'previous_token': 'VOLNUU86O7PEEZZZ'}\n"
     ]
    },
    {
     "name": "stderr",
     "output_type": "stream",
     "text": [
      "Rate limit exceeded. Sleeping for 892 seconds.\n"
     ]
    },
    {
     "name": "stdout",
     "output_type": "stream",
     "text": [
      "{'result_count': 1000, 'next_token': 'E03AA3V1LS61GZZZ', 'previous_token': '3NEAEMN71NPUEZZZ'}\n",
      "{'result_count': 1000, 'next_token': 'JPBBOIQNB461GZZZ', 'previous_token': 'RNDS1JICA3PUEZZZ'}\n",
      "{'result_count': 1000, 'next_token': 'KVKIGSO06061GZZZ', 'previous_token': 'FMSKARDBKRPUEZZZ'}\n",
      "{'result_count': 1000, 'next_token': '2QCLHAJQ1461GZZZ', 'previous_token': 'UQC5N302Q3PUEZZZ'}\n",
      "{'result_count': 1000, 'next_token': '7GVJJ0V9UK5HGZZZ', 'previous_token': 'OPLQ5R47URPUEZZZ'}\n",
      "{'result_count': 1000, 'next_token': 'HFT371T7T45HGZZZ', 'previous_token': 'O58K8SOR1BQEEZZZ'}\n",
      "{'result_count': 1000, 'next_token': '0H5LAV55RS5HGZZZ', 'previous_token': '7895BFJ12RQEEZZZ'}\n",
      "{'result_count': 1000, 'next_token': 'VQHG73EOQS5HGZZZ', 'previous_token': '7UN983QR43QEEZZZ'}\n",
      "{'result_count': 1000, 'next_token': '792PDCAEPS5HGZZZ', 'previous_token': 'IOONL4H953QEEZZZ'}\n",
      "{'result_count': 1000, 'next_token': '78KAM7USOG5HGZZZ', 'previous_token': 'U63U4CTI63QEEZZZ'}\n",
      "{'result_count': 1000, 'next_token': 'TIBA701INO5HGZZZ', 'previous_token': 'L9R2E0997FQEEZZZ'}\n",
      "{'result_count': 1000, 'next_token': 'C18HOTQBN45HGZZZ', 'previous_token': 'FOBI9EUD87QEEZZZ'}\n",
      "{'result_count': 1000, 'next_token': 'IIH58LC1MK5HGZZZ', 'previous_token': 'GE0H5CTL8RQEEZZZ'}\n",
      "{'result_count': 1000, 'next_token': 'K3MBLKR1M85HGZZZ', 'previous_token': 'TMNCS4JV9BQEEZZZ'}\n",
      "{'result_count': 1000, 'next_token': '21ND3BM3LS5HGZZZ', 'previous_token': 'M0E8B6CU9NQEEZZZ'}\n"
     ]
    },
    {
     "name": "stderr",
     "output_type": "stream",
     "text": [
      "Rate limit exceeded. Sleeping for 892 seconds.\n"
     ]
    },
    {
     "name": "stdout",
     "output_type": "stream",
     "text": [
      "{'result_count': 1000, 'next_token': '33HI91LGLK5HGZZZ', 'previous_token': '83S02N9SA3QEEZZZ'}\n",
      "{'result_count': 1000, 'next_token': 'N0EQRT75LC5HGZZZ', 'previous_token': '5B1ABBAFABQEEZZZ'}\n",
      "{'result_count': 1000, 'next_token': 'A11MJJRVL85HGZZZ', 'previous_token': 'R5NI0CGQAJQEEZZZ'}\n",
      "{'result_count': 1000, 'next_token': 'LIOTSQADL45HGZZZ', 'previous_token': 'PL7I6GS0ANQEEZZZ'}\n",
      "{'result_count': 1000, 'next_token': 'OTO4OQQ8L05HGZZZ', 'previous_token': 'IA0BN5TIARQEEZZZ'}\n",
      "{'result_count': 1000, 'next_token': 'HLM3HFQBKS5HGZZZ', 'previous_token': 'BIGLR7DNAVQEEZZZ'}\n",
      "{'result_count': 1000, 'next_token': 'F863FFIFKO5HGZZZ', 'previous_token': '6RNTL05LB3QEEZZZ'}\n",
      "{'result_count': 1000, 'next_token': 'C92G3B9KKK5HGZZZ', 'previous_token': '6Q8B125GB7QEEZZZ'}\n",
      "{'result_count': 1000, 'next_token': '9FRGCRMQMG51GZZZ', 'previous_token': 'RRFCBLEBBBQEEZZZ'}\n",
      "{'result_count': 1000, 'next_token': '0ECQ6H4N9S4HGZZZ', 'previous_token': 'P6D57TEL9FQUEZZZ'}\n",
      "{'result_count': 999, 'next_token': 'MDCB69NHOC3HGZZZ', 'previous_token': '4MPP6JLRM3REEZZZ'}\n",
      "{'result_count': 1000, 'next_token': '0IBG2P23D431GZZZ', 'previous_token': '739HJUJ77JSEEZZZ'}\n",
      "{'result_count': 1000, 'next_token': 'GVL15ENBLO21GZZZ', 'previous_token': 'LRQIDSNCIRSUEZZZ'}\n",
      "{'result_count': 1000, 'next_token': 'OKCIF0DQRO11GZZZ', 'previous_token': 'CJQ638IPABTUEZZZ'}\n",
      "{'result_count': 1000, 'next_token': 'B8SN98FT400HGZZZ', 'previous_token': '47SAAN7E47UUEZZZ'}\n"
     ]
    },
    {
     "name": "stderr",
     "output_type": "stream",
     "text": [
      "Rate limit exceeded. Sleeping for 893 seconds.\n"
     ]
    },
    {
     "name": "stdout",
     "output_type": "stream",
     "text": [
      "{'result_count': 1000, 'next_token': 'PUBUK6HEGBVHEZZZ', 'previous_token': 'B4U0JKAERVVEEZZZ'}\n",
      "{'result_count': 1000, 'next_token': 'MKTDRKHF53V1EZZZ', 'previous_token': 'NO6FRQOUFO0EGZZZ'}\n",
      "{'result_count': 1000, 'next_token': '0NF8AJ03GRUHEZZZ', 'previous_token': '3PSN43ELQS0UGZZZ'}\n",
      "{'result_count': 1000, 'next_token': 'P11NU6ITFRU1EZZZ', 'previous_token': 'AIHPM5G7F81EGZZZ'}\n",
      "{'result_count': 1000, 'next_token': 'QE2STF577BTHEZZZ', 'previous_token': '46OJIO5IG41UGZZZ'}\n",
      "{'result_count': 1000, 'next_token': 'E49VFL2VTNSHEZZZ', 'previous_token': 'H01RHGSKOK2EGZZZ'}\n",
      "{'result_count': 1000, 'next_token': '78JK4DG77VSHEZZZ', 'previous_token': 'N9STDUD6283EGZZZ'}\n",
      "{'result_count': 1000, 'next_token': 'C4E5OUK6EVS1EZZZ', 'previous_token': 'R6JODGUEO43EGZZZ'}\n",
      "{'result_count': 999, 'next_token': 'SD959VO0CJRHEZZZ', 'previous_token': 'S1K413AUH43UGZZZ'}\n",
      "{'result_count': 1000, 'next_token': 'ICL1S9TRVBR1EZZZ', 'previous_token': '36T7AND0JG4EGZZZ'}\n",
      "{'result_count': 1000, 'next_token': '8C12F00IDVQHEZZZ', 'previous_token': 'TRG9EJ250K4UGZZZ'}\n",
      "{'result_count': 999, 'next_token': 'AT9IQDFMJJPHEZZZ', 'previous_token': '1N76J910I45EGZZZ'}\n",
      "{'result_count': 1000, 'next_token': '79M7DAIC3JP1EZZZ', 'previous_token': 'AT9U4TRCCC6EGZZZ'}\n",
      "{'result_count': 1000, 'next_token': 'HMUO1HMOAVO1EZZZ', 'previous_token': 'U2JLU38NSG6UGZZZ'}\n",
      "{'result_count': 1000, 'next_token': '8O7D4CDFFFN1EZZZ', 'previous_token': 'URHRP5HCL07UGZZZ'}\n"
     ]
    },
    {
     "name": "stderr",
     "output_type": "stream",
     "text": [
      "Rate limit exceeded. Sleeping for 892 seconds.\n"
     ]
    },
    {
     "name": "stdout",
     "output_type": "stream",
     "text": [
      "{'result_count': 1000, 'next_token': 'BCGUKT8CPJM1EZZZ', 'previous_token': '53G4PT54GG8UGZZZ'}\n",
      "{'result_count': 1000, 'next_token': 'CA9DH0215VLHEZZZ', 'previous_token': 'GTF60OF16G9UGZZZ'}\n",
      "{'result_count': 1000, 'next_token': 'T9PVP69SIBKHEZZZ', 'previous_token': 'H3EGE46HQ0AEGZZZ'}\n",
      "{'result_count': 1000, 'next_token': 'JHOTTQ2D6BK1EZZZ', 'previous_token': 'CBM06RF8DKBEGZZZ'}\n",
      "{'result_count': 1000, 'next_token': '5II1A7KKENJHEZZZ', 'previous_token': 'S43LHVVBPKBUGZZZ'}\n",
      "Completed pulling follower data for MCRofficial.\n",
      "Time taken was 1:45:08.517333.\n"
     ]
    }
   ],
   "source": [
    "# note the artists' twitter handles\n",
    "handles = ['MCRofficial']\n",
    "handle_followers = []\n",
    "\n",
    "whitespace_pattern = re.compile(r\"\\s+\")\n",
    "\n",
    "user_data = dict() \n",
    "followers_data = dict()\n",
    "\n",
    "for handle in handles :\n",
    "    user_obj = client.get_user(username=handle) # this will specify the handles\n",
    "    user_data[handle] = [] # will be a list of lists\n",
    "    followers_data[handle] = [] # will be a simple list of IDs\n",
    "\n",
    "\n",
    "# Grabs the time when we start making requests to the API\n",
    "start_time = datetime.datetime.now()\n",
    "\n",
    "for handle in handles :\n",
    "    \n",
    "    # Create the output file names \n",
    "    \n",
    "    followers_output_file = handle + \"_followers.txt\"\n",
    "    user_data_output_file = handle + \"_follower_data.txt\"\n",
    "    \n",
    "    # this produces a print statement indicating artist\n",
    "    print(f'Pulling followers for {handle}.')\n",
    "    \n",
    "    # Using tweepy.Paginator (https://docs.tweepy.org/en/latest/v2_pagination.html), \n",
    "    # use `get_users_followers` to pull the follower data requested. \n",
    "    \n",
    "    for followers in tweepy.Paginator(client.get_users_followers,\n",
    "            user_obj.data.id,\n",
    "            user_fields=[\"username\",\"name\",\"id\",\"location\",\"public_metrics\",\"description\"],\n",
    "            max_results=1000,\n",
    "            limit=100):\n",
    "        print(followers.meta)\n",
    "        \n",
    "        for follower in followers.data:\n",
    "            follower_row = {'id': follower.id,\n",
    "                            'username': follower.username,\n",
    "                            'name': follower.name,\n",
    "                            'location': follower.location,\n",
    "                            'follower_count': follower.public_metrics['followers_count'],\n",
    "                            'following': follower.public_metrics['following_count'],\n",
    "                            'description': follower.description\n",
    "                           }\n",
    "            user_data[handle].append(follower_row) # this appends all follower data\n",
    "            followers_data[handle].append(follower.id) # this appends only follower ids\n",
    "            \n",
    "    # For each response object, extract the needed fields and store them in a dictionary or\n",
    "    # data frame. \n",
    "    users_output_MCR = pd.DataFrame(user_data[handle], columns=['id','username',\n",
    "                                                               'name', 'location',\n",
    "                                                               'follower_count', 'following',\n",
    "                                                               'description'])\n",
    "    followers_output_MCR = pd.DataFrame(user_data[handle], columns=['id'])\n",
    "    \n",
    "    users_output_MCR.to_csv(f'twitter/{handle}_followers.txt', sep='\\t', index=False)\n",
    "    followers_output_MCR.to_csv(f'twitter/{handle}_follower_data.txt', sep='\\t', index=False)\n",
    "            \n",
    "    print(f'Completed pulling follower data for {handle}.')\n",
    "        \n",
    "# Let's see how long it took to grab all follower IDs\n",
    "end_time = datetime.datetime.now()\n",
    "print(f'Time taken was {end_time - start_time}.')\n"
   ]
  },
  {
   "cell_type": "code",
   "execution_count": 17,
   "id": "513f4e1d",
   "metadata": {},
   "outputs": [
    {
     "data": {
      "text/html": [
       "<div>\n",
       "<style scoped>\n",
       "    .dataframe tbody tr th:only-of-type {\n",
       "        vertical-align: middle;\n",
       "    }\n",
       "\n",
       "    .dataframe tbody tr th {\n",
       "        vertical-align: top;\n",
       "    }\n",
       "\n",
       "    .dataframe thead th {\n",
       "        text-align: right;\n",
       "    }\n",
       "</style>\n",
       "<table border=\"1\" class=\"dataframe\">\n",
       "  <thead>\n",
       "    <tr style=\"text-align: right;\">\n",
       "      <th></th>\n",
       "      <th>id</th>\n",
       "      <th>username</th>\n",
       "      <th>name</th>\n",
       "      <th>location</th>\n",
       "      <th>follower_count</th>\n",
       "      <th>following</th>\n",
       "      <th>description</th>\n",
       "    </tr>\n",
       "  </thead>\n",
       "  <tbody>\n",
       "    <tr>\n",
       "      <th>0</th>\n",
       "      <td>1132811754176765952</td>\n",
       "      <td>nutman71234668</td>\n",
       "      <td>quaintqueef420</td>\n",
       "      <td>None</td>\n",
       "      <td>26</td>\n",
       "      <td>509</td>\n",
       "      <td>i smelly</td>\n",
       "    </tr>\n",
       "    <tr>\n",
       "      <th>1</th>\n",
       "      <td>1570075902817583106</td>\n",
       "      <td>DemoLoversMCR</td>\n",
       "      <td>Demolition Lovers Gang - MCR</td>\n",
       "      <td>Newark, New Jersey</td>\n",
       "      <td>1</td>\n",
       "      <td>6</td>\n",
       "      <td>Official petition. We want to hear Demoition L...</td>\n",
       "    </tr>\n",
       "    <tr>\n",
       "      <th>2</th>\n",
       "      <td>1537290582556454914</td>\n",
       "      <td>Meooowcy</td>\n",
       "      <td>CréamyLatté</td>\n",
       "      <td>Lungsod ng Valenzuela, Pambans</td>\n",
       "      <td>2</td>\n",
       "      <td>65</td>\n",
       "      <td></td>\n",
       "    </tr>\n",
       "    <tr>\n",
       "      <th>3</th>\n",
       "      <td>1232241829191593984</td>\n",
       "      <td>jamieexisted</td>\n",
       "      <td>jamie</td>\n",
       "      <td>he/him, 19</td>\n",
       "      <td>33</td>\n",
       "      <td>310</td>\n",
       "      <td>🏳️‍🌈🏳️‍⚧️</td>\n",
       "    </tr>\n",
       "    <tr>\n",
       "      <th>4</th>\n",
       "      <td>1570087687683555328</td>\n",
       "      <td>KarmenWeaks</td>\n",
       "      <td>Karmen Weaks</td>\n",
       "      <td>None</td>\n",
       "      <td>0</td>\n",
       "      <td>89</td>\n",
       "      <td></td>\n",
       "    </tr>\n",
       "  </tbody>\n",
       "</table>\n",
       "</div>"
      ],
      "text/plain": [
       "                    id        username                          name  \\\n",
       "0  1132811754176765952  nutman71234668                quaintqueef420   \n",
       "1  1570075902817583106   DemoLoversMCR  Demolition Lovers Gang - MCR   \n",
       "2  1537290582556454914        Meooowcy                   CréamyLatté   \n",
       "3  1232241829191593984    jamieexisted                         jamie   \n",
       "4  1570087687683555328     KarmenWeaks                  Karmen Weaks   \n",
       "\n",
       "                         location  follower_count  following  \\\n",
       "0                            None              26        509   \n",
       "1              Newark, New Jersey               1          6   \n",
       "2  Lungsod ng Valenzuela, Pambans               2         65   \n",
       "3                      he/him, 19              33        310   \n",
       "4                            None               0         89   \n",
       "\n",
       "                                         description  \n",
       "0                                           i smelly  \n",
       "1  Official petition. We want to hear Demoition L...  \n",
       "2                                                     \n",
       "3                                          🏳️‍🌈🏳️‍⚧️  \n",
       "4                                                     "
      ]
     },
     "execution_count": 17,
     "metadata": {},
     "output_type": "execute_result"
    }
   ],
   "source": [
    "# checking dataframes to ensure proper data pull\n",
    "users_output_MCR.head()"
   ]
  },
  {
   "cell_type": "markdown",
   "id": "84121845",
   "metadata": {},
   "source": [
    "### Artist 2: Missy Elliott @MissyElliott"
   ]
  },
  {
   "cell_type": "code",
   "execution_count": 18,
   "id": "d5ee67d5",
   "metadata": {},
   "outputs": [
    {
     "name": "stdout",
     "output_type": "stream",
     "text": [
      "Pulling followers for MissyElliott.\n",
      "{'result_count': 1000, 'next_token': 'PR0OT22HEGPHGZZZ'}\n",
      "{'result_count': 1000, 'next_token': '2RLBKQHC24PHGZZZ', 'previous_token': 'VFN8GGDJHF6EEZZZ'}\n",
      "{'result_count': 1000, 'next_token': 'B8IHKHNLJKP1GZZZ', 'previous_token': 'G73LE512TV6EEZZZ'}\n",
      "{'result_count': 1000, 'next_token': '081HS2L164P1GZZZ', 'previous_token': 'L0UVGV8ECB6UEZZZ'}\n",
      "{'result_count': 1000, 'next_token': 'P7OUIVTMS8OHGZZZ', 'previous_token': 'QG0RQLR3PR6UEZZZ'}\n",
      "{'result_count': 1000, 'next_token': 'E219JO4LHCOHGZZZ', 'previous_token': 'H7O68KJ13N7EEZZZ'}\n",
      "{'result_count': 1000, 'next_token': 'Q8O93CEIVSO1GZZZ', 'previous_token': 'PIMLKFNOEJ7EEZZZ'}\n",
      "{'result_count': 1000, 'next_token': '3EDAKLVPK8O1GZZZ', 'previous_token': 'OP6BVH9E037UEZZZ'}\n",
      "{'result_count': 1000, 'next_token': 'D9U2TA3J84O1GZZZ', 'previous_token': 'U39LAF0EBN7UEZZZ'}\n",
      "{'result_count': 1000, 'next_token': 'F3DKAL9UOGNHGZZZ', 'previous_token': 'E5HF1TOFNV7UEZZZ'}\n"
     ]
    },
    {
     "name": "stderr",
     "output_type": "stream",
     "text": [
      "Rate limit exceeded. Sleeping for 892 seconds.\n"
     ]
    },
    {
     "name": "stdout",
     "output_type": "stream",
     "text": [
      "{'result_count': 1000, 'next_token': 'N352RRUECONHGZZZ', 'previous_token': '1VUO8D6O7F8EEZZZ'}\n",
      "{'result_count': 1000, 'next_token': '2132R2I11GNHGZZZ', 'previous_token': 'VJUBEMI9J78EEZZZ'}\n",
      "{'result_count': 1000, 'next_token': '36BD4PF8KCN1GZZZ', 'previous_token': '1EJSRTE4UF8EEZZZ'}\n",
      "{'result_count': 1000, 'next_token': 'KH9KCNG9B0N1GZZZ', 'previous_token': 'AF9VITP2BJ8UEZZZ'}\n",
      "{'result_count': 1000, 'next_token': '70A6A0FU2CN1GZZZ', 'previous_token': 'A2ENKF8CL38UEZZZ'}\n",
      "{'result_count': 1000, 'next_token': '3R2OJLAVI8MHGZZZ', 'previous_token': 'SUD3838KTJ8UEZZZ'}\n",
      "{'result_count': 999, 'next_token': 'SS133RHO80MHGZZZ', 'previous_token': '9TQB01FFDN9EEZZZ'}\n",
      "{'result_count': 999, 'next_token': 'SIG9B7MB2KMHGZZZ', 'previous_token': '1DEQ65E9NV9EEZZZ'}\n",
      "{'result_count': 1000, 'next_token': 'C6FPHE6SN8M1GZZZ', 'previous_token': 'UFHRI41STB9EEZZZ'}\n",
      "{'result_count': 999, 'next_token': '0KO77Q9J58M1GZZZ', 'previous_token': 'DHBDISPA8N9UEZZZ'}\n",
      "{'result_count': 1000, 'next_token': '957OTJSJICLHGZZZ', 'previous_token': 'BOH6FSOMQR9UEZZZ'}\n",
      "{'result_count': 1000, 'next_token': 'SFTMR3UE84LHGZZZ', 'previous_token': 'FL9MFBBRDJAEEZZZ'}\n",
      "{'result_count': 1000, 'next_token': '2OPIM5TD48LHGZZZ', 'previous_token': 'VA5ONDPJNRAEEZZZ'}\n",
      "{'result_count': 1000, 'next_token': 'K96I10FLOCL1GZZZ', 'previous_token': 'QV4NC9J9RNAEEZZZ'}\n",
      "{'result_count': 1000, 'next_token': 'G9BDHS604OL1GZZZ', 'previous_token': 'JQGA8COR7JAUEZZZ'}\n"
     ]
    },
    {
     "name": "stderr",
     "output_type": "stream",
     "text": [
      "Rate limit exceeded. Sleeping for 893 seconds.\n"
     ]
    },
    {
     "name": "stdout",
     "output_type": "stream",
     "text": [
      "{'result_count': 999, 'next_token': 'QTBOC4N8L4KHGZZZ', 'previous_token': '47S4V025R7AUEZZZ'}\n",
      "{'result_count': 1000, 'next_token': 'OF66I7FG3KKHGZZZ', 'previous_token': 'N55PVR16ARBEEZZZ'}\n",
      "{'result_count': 1000, 'next_token': 'T2O9QCNPFOK1GZZZ', 'previous_token': '18F7Q5HBSBBEEZZZ'}\n",
      "{'result_count': 1000, 'next_token': '339PJV0I1CK1GZZZ', 'previous_token': 'CNR2CK9JG7BUEZZZ'}\n",
      "{'result_count': 1000, 'next_token': 'GS0B7K21KSJHGZZZ', 'previous_token': 'QTKRMUVOUJBUEZZZ'}\n",
      "{'result_count': 999, 'next_token': 'V8G9MKI818JHGZZZ', 'previous_token': 'U8S8PPH5B7CEEZZZ'}\n",
      "{'result_count': 1000, 'next_token': '3IF8V5L6COJ1GZZZ', 'previous_token': 'C4SV62M2UNCEEZZZ'}\n",
      "{'result_count': 1000, 'next_token': '7CQGGHTOOSIHGZZZ', 'previous_token': 'G2QDSUIRJ7CUEZZZ'}\n",
      "{'result_count': 1000, 'next_token': '4CIMF5RS5OIHGZZZ', 'previous_token': '6ANKLH2873DEEZZZ'}\n",
      "{'result_count': 1000, 'next_token': 'HPRK7P0VL8I1GZZZ', 'previous_token': 'FK824E57Q7DEEZZZ'}\n",
      "{'result_count': 999, 'next_token': 'UJERKO8R1KI1GZZZ', 'previous_token': 'SA7N1UV2ANDUEZZZ'}\n",
      "{'result_count': 1000, 'next_token': 'V1QTJPHBGSHHGZZZ', 'previous_token': 'ABT6OIFGUBDUEZZZ'}\n",
      "{'result_count': 1000, 'next_token': 'J6BN5VF300HHGZZZ', 'previous_token': '4EP5OAERF3EEEZZZ'}\n",
      "{'result_count': 1000, 'next_token': 'I19Q13N9D8H1GZZZ', 'previous_token': 'DQVRKIPQVVEEEZZZ'}\n",
      "{'result_count': 1000, 'next_token': 'TGQO5B4UNOGHGZZZ', 'previous_token': 'HSCCE948INEUEZZZ'}\n"
     ]
    },
    {
     "name": "stderr",
     "output_type": "stream",
     "text": [
      "Rate limit exceeded. Sleeping for 893 seconds.\n"
     ]
    },
    {
     "name": "stdout",
     "output_type": "stream",
     "text": [
      "{'result_count': 1000, 'next_token': 'PF11D68J2GGHGZZZ', 'previous_token': 'JCUF2I3887FEEZZZ'}\n",
      "{'result_count': 1000, 'next_token': 'BIAA9E56GSG1GZZZ', 'previous_token': 'C1UTT9G4TJFEEZZZ'}\n",
      "{'result_count': 1000, 'next_token': 'RM1JIF9Q6OG1GZZZ', 'previous_token': '3F6IBHR2F3FUEZZZ'}\n",
      "{'result_count': 1000, 'next_token': '8L25BQGAJSFHGZZZ', 'previous_token': 'RAB9O2U9P7FUEZZZ'}\n",
      "{'result_count': 1000, 'next_token': '8QE0EQ5A64FHGZZZ', 'previous_token': 'V6T6QT8GC7GEEZZZ'}\n",
      "{'result_count': 1000, 'next_token': 'N8N9O2HBRGF1GZZZ', 'previous_token': '49K3NQJFPRGEEZZZ'}\n",
      "{'result_count': 1000, 'next_token': 'NKNU7U3OD4F1GZZZ', 'previous_token': 'PDOJA1ES4FGUEZZZ'}\n",
      "{'result_count': 999, 'next_token': 'V9DMDHQ70GF1GZZZ', 'previous_token': '2QR2A2L8IRGUEZZZ'}\n",
      "{'result_count': 999, 'next_token': 'V8M3J8DLLKEHGZZZ', 'previous_token': 'DHSDGK66VFGUEZZZ'}\n",
      "{'result_count': 1000, 'next_token': '8D098PBKG4EHGZZZ', 'previous_token': '9CHLURIEABHEEZZZ'}\n",
      "{'result_count': 1000, 'next_token': 'K7NV30SC60EHGZZZ', 'previous_token': '1HA0JVTVFRHEEZZZ'}\n",
      "{'result_count': 1000, 'next_token': 'ESFLBTPODKE1GZZZ', 'previous_token': '96VPIMLLPVHEEZZZ'}\n",
      "{'result_count': 1000, 'next_token': 'H39OBVN51SE1GZZZ', 'previous_token': 'PDQ16L8CIFHUEZZZ'}\n",
      "{'result_count': 1000, 'next_token': '3912E1EAQ0DHGZZZ', 'previous_token': '59GSRJH4U3HUEZZZ'}\n",
      "{'result_count': 1000, 'next_token': 'CA9437FSC8DHGZZZ', 'previous_token': 'T2G77KHU5VIEEZZZ'}\n"
     ]
    },
    {
     "name": "stderr",
     "output_type": "stream",
     "text": [
      "Rate limit exceeded. Sleeping for 893 seconds.\n"
     ]
    },
    {
     "name": "stdout",
     "output_type": "stream",
     "text": [
      "{'result_count': 1000, 'next_token': 'VDMNPIKHP0D1GZZZ', 'previous_token': 'P8NILL9JJNIEEZZZ'}\n",
      "{'result_count': 1000, 'next_token': '91132BV244D1GZZZ', 'previous_token': 'C4MGTMD86VIUEZZZ'}\n",
      "{'result_count': 1000, 'next_token': 'EQJ1GMQNH8CHGZZZ', 'previous_token': '48V2L617RRIUEZZZ'}\n",
      "{'result_count': 1000, 'next_token': 'USGD4PJ01SCHGZZZ', 'previous_token': 'T261F9LIENJEEZZZ'}\n",
      "{'result_count': 1000, 'next_token': 'V8BA3TOCBGC1GZZZ', 'previous_token': 'DIR9UAT6U3JEEZZZ'}\n",
      "{'result_count': 1000, 'next_token': 'D0E4U1DASGBHGZZZ', 'previous_token': 'OFMA9SGAKJJUEZZZ'}\n",
      "{'result_count': 1000, 'next_token': 'CGJCJ6BRF8BHGZZZ', 'previous_token': 'RO8N2OIQ3FKEEZZZ'}\n",
      "{'result_count': 1000, 'next_token': '0FSMKBGDLKB1GZZZ', 'previous_token': 'MSLKVSV0GNKEEZZZ'}\n",
      "{'result_count': 1000, 'next_token': 'GPNO8KAC00B1GZZZ', 'previous_token': 'MATAA8M4AFKUEZZZ'}\n",
      "{'result_count': 1000, 'next_token': '64UJGRVQ4KAHGZZZ', 'previous_token': '61FR1ON7VVKUEZZZ'}\n",
      "{'result_count': 1000, 'next_token': '89PH7APJJ8A1GZZZ', 'previous_token': 'V2RGLD0URBLEEZZZ'}\n",
      "{'result_count': 1000, 'next_token': '704JQF57CKA1GZZZ', 'previous_token': '24EGP3VOCNLUEZZZ'}\n",
      "{'result_count': 1000, 'next_token': 'H6ACK2LP28A1GZZZ', 'previous_token': '063MNV2SJBLUEZZZ'}\n",
      "{'result_count': 1000, 'next_token': 'VOAHFRE8HC9HGZZZ', 'previous_token': '1FOQK0L0TNLUEZZZ'}\n",
      "{'result_count': 1000, 'next_token': 'IF8EFCCGV091GZZZ', 'previous_token': '96GGS9IJEJMEEZZZ'}\n"
     ]
    },
    {
     "name": "stderr",
     "output_type": "stream",
     "text": [
      "Rate limit exceeded. Sleeping for 893 seconds.\n"
     ]
    },
    {
     "name": "stdout",
     "output_type": "stream",
     "text": [
      "{'result_count': 1000, 'next_token': 'UOAP3CSO9491GZZZ', 'previous_token': 'CBCJUP4G0VMUEZZZ'}\n",
      "{'result_count': 1000, 'next_token': 'LO2QSH7MMK8HGZZZ', 'previous_token': 'OILCP5JGMRMUEZZZ'}\n",
      "{'result_count': 1000, 'next_token': 'S12U68E6PO81GZZZ', 'previous_token': '4EJBTR179BNEEZZZ'}\n",
      "{'result_count': 1000, 'next_token': 'KN8273PE6O81GZZZ', 'previous_token': 'IIT9B4IM67NUEZZZ'}\n",
      "{'result_count': 1000, 'next_token': 'RHHOOFUTI47HGZZZ', 'previous_token': 'OC958O00PBNUEZZZ'}\n",
      "{'result_count': 1000, 'next_token': 'B75A7LP4Q471GZZZ', 'previous_token': 'S2UEU72CDROEEZZZ'}\n",
      "{'result_count': 1000, 'next_token': 'ODMD2EHG3S71GZZZ', 'previous_token': 'JVN65L0D5VOUEZZZ'}\n",
      "{'result_count': 1000, 'next_token': 'KSDA33939K6HGZZZ', 'previous_token': 'L9P1UTMOS3OUEZZZ'}\n",
      "{'result_count': 1000, 'next_token': '3EPLP5T4NG61GZZZ', 'previous_token': 'MK6R0INBMBPEEZZZ'}\n",
      "{'result_count': 1000, 'next_token': '5K8P5IOP7C61GZZZ', 'previous_token': '5FNFV7LI8FPUEZZZ'}\n",
      "{'result_count': 1000, 'next_token': '7MUBRIF5K05HGZZZ', 'previous_token': 'MB0HTINUOJPUEZZZ'}\n",
      "{'result_count': 1000, 'next_token': 'KQMJAIN7UC51GZZZ', 'previous_token': 'POEAJ8IFBVQEEZZZ'}\n",
      "{'result_count': 1000, 'next_token': 'QITR930O9C51GZZZ', 'previous_token': 'EGMNE5AN1JQUEZZZ'}\n",
      "{'result_count': 1000, 'next_token': 'KF1GEVAELO4HGZZZ', 'previous_token': 'F2SUM027MNQUEZZZ'}\n",
      "{'result_count': 1000, 'next_token': '4VNC61QGAO4HGZZZ', 'previous_token': 'R73NDRU9A7REEZZZ'}\n"
     ]
    },
    {
     "name": "stderr",
     "output_type": "stream",
     "text": [
      "Rate limit exceeded. Sleeping for 893 seconds.\n"
     ]
    },
    {
     "name": "stdout",
     "output_type": "stream",
     "text": [
      "{'result_count': 1000, 'next_token': 'UCE4PJIGRO41GZZZ', 'previous_token': 'U8K7G9U0L7REEZZZ'}\n",
      "{'result_count': 1000, 'next_token': 'QB9MSOIS9K41GZZZ', 'previous_token': 'SS639UM947RUEZZZ'}\n",
      "{'result_count': 1000, 'next_token': 'P130RSPHP03HGZZZ', 'previous_token': 'MIMVEUTLMBRUEZZZ'}\n",
      "{'result_count': 1000, 'next_token': '4S93O60V903HGZZZ', 'previous_token': '9A544PV06VSEEZZZ'}\n",
      "{'result_count': 1000, 'next_token': '72CS6HEJ083HGZZZ', 'previous_token': '9HB3SOFTMVSEEZZZ'}\n",
      "{'result_count': 1000, 'next_token': '3DS6E4COKG31GZZZ', 'previous_token': '5OAOVDIAVNSEEZZZ'}\n",
      "{'result_count': 1000, 'next_token': 'B2E510U98431GZZZ', 'previous_token': '0CSEIG50BFSUEZZZ'}\n",
      "{'result_count': 1000, 'next_token': 'D1UAVQBNNS2HGZZZ', 'previous_token': '0T6FR6AINRSUEZZZ'}\n",
      "{'result_count': 1000, 'next_token': 'EUD54KII7K2HGZZZ', 'previous_token': '8FM5EVTV83TEEZZZ'}\n",
      "{'result_count': 1000, 'next_token': 'LSA4UCI3RO21GZZZ', 'previous_token': '0NHGTODOOBTEEZZZ'}\n",
      "{'result_count': 1000, 'next_token': 'C3B520HNIK21GZZZ', 'previous_token': 'TAT2H2UA47TUEZZZ'}\n",
      "{'result_count': 1000, 'next_token': 'H5QBBK5OD821GZZZ', 'previous_token': '5030OCUDDBTUEZZZ'}\n",
      "{'result_count': 1000, 'next_token': 'I833DM076S21GZZZ', 'previous_token': '64DS9K29INTUEZZZ'}\n",
      "{'result_count': 1000, 'next_token': 'C9KTHK34NK1HGZZZ', 'previous_token': 'E8FN7CO1P7TUEZZZ'}\n",
      "{'result_count': 1000, 'next_token': '7UJM2U1DAO1HGZZZ', 'previous_token': '550SQPL18BUEEZZZ'}\n",
      "Completed pulling follower data for MissyElliott.\n",
      "Time taken was 1:30:11.312422.\n"
     ]
    }
   ],
   "source": [
    "# note the artists' twitter handles\n",
    "handles = ['MissyElliott']\n",
    "handle_followers = []\n",
    "\n",
    "whitespace_pattern = re.compile(r\"\\s+\")\n",
    "\n",
    "user_data = dict() \n",
    "followers_data = dict()\n",
    "\n",
    "for handle in handles :\n",
    "    user_obj = client.get_user(username=handle) # this will specify the handles\n",
    "    user_data[handle] = [] # will be a list of lists\n",
    "    followers_data[handle] = [] # will be a simple list of IDs\n",
    "\n",
    "\n",
    "# Grabs the time when we start making requests to the API\n",
    "start_time = datetime.datetime.now()\n",
    "\n",
    "for handle in handles :\n",
    "    \n",
    "    # Create the output file names \n",
    "    \n",
    "    followers_output_file = handle + \"_followers.txt\"\n",
    "    user_data_output_file = handle + \"_follower_data.txt\"\n",
    "    \n",
    "    # this produces a print statement indicating artist\n",
    "    print(f'Pulling followers for {handle}.')\n",
    "    \n",
    "    # Using tweepy.Paginator (https://docs.tweepy.org/en/latest/v2_pagination.html), \n",
    "    # use `get_users_followers` to pull the follower data requested. \n",
    "    \n",
    "    for followers in tweepy.Paginator(client.get_users_followers,\n",
    "            user_obj.data.id,\n",
    "            user_fields=[\"username\",\"name\",\"id\",\"location\",\"public_metrics\",\"description\"],\n",
    "            max_results=1000,\n",
    "            limit=100):\n",
    "        print(followers.meta)\n",
    "        \n",
    "        for follower in followers.data:\n",
    "            follower_row = {'id': follower.id,\n",
    "                            'username': follower.username,\n",
    "                            'name': follower.name,\n",
    "                            'location': follower.location,\n",
    "                            'follower_count': follower.public_metrics['followers_count'],\n",
    "                            'following': follower.public_metrics['following_count'],\n",
    "                            'description': follower.description\n",
    "                           }\n",
    "            user_data[handle].append(follower_row) # this appends all follower data\n",
    "            followers_data[handle].append(follower.id) # this appends only follower ids\n",
    "            \n",
    "    # For each response object, extract the needed fields and store them in a dictionary or\n",
    "    # data frame. \n",
    "    users_output_missy = pd.DataFrame(user_data[handle], columns=['id','username',\n",
    "                                                               'name', 'location',\n",
    "                                                               'follower_count', 'following',\n",
    "                                                               'description'])\n",
    "    followers_output_missy = pd.DataFrame(user_data[handle], columns=['id'])\n",
    "    \n",
    "    users_output_missy.to_csv(f'twitter/{handle}_followers.txt', sep='\\t', index=False)\n",
    "    followers_output_missy.to_csv(f'twitter/{handle}_follower_data.txt', sep='\\t', index=False)\n",
    "            \n",
    "    print(f'Completed pulling follower data for {handle}.')\n",
    "        \n",
    "# Let's see how long it took to grab all follower IDs\n",
    "end_time = datetime.datetime.now()\n",
    "print(f'Time taken was {end_time - start_time}.')\n"
   ]
  },
  {
   "cell_type": "code",
   "execution_count": 19,
   "id": "123ae4cd",
   "metadata": {},
   "outputs": [
    {
     "data": {
      "text/html": [
       "<div>\n",
       "<style scoped>\n",
       "    .dataframe tbody tr th:only-of-type {\n",
       "        vertical-align: middle;\n",
       "    }\n",
       "\n",
       "    .dataframe tbody tr th {\n",
       "        vertical-align: top;\n",
       "    }\n",
       "\n",
       "    .dataframe thead th {\n",
       "        text-align: right;\n",
       "    }\n",
       "</style>\n",
       "<table border=\"1\" class=\"dataframe\">\n",
       "  <thead>\n",
       "    <tr style=\"text-align: right;\">\n",
       "      <th></th>\n",
       "      <th>id</th>\n",
       "      <th>username</th>\n",
       "      <th>name</th>\n",
       "      <th>location</th>\n",
       "      <th>follower_count</th>\n",
       "      <th>following</th>\n",
       "      <th>description</th>\n",
       "    </tr>\n",
       "  </thead>\n",
       "  <tbody>\n",
       "    <tr>\n",
       "      <th>0</th>\n",
       "      <td>1570115372401008642</td>\n",
       "      <td>SantSal0902</td>\n",
       "      <td>Santi</td>\n",
       "      <td>None</td>\n",
       "      <td>0</td>\n",
       "      <td>74</td>\n",
       "      <td></td>\n",
       "    </tr>\n",
       "    <tr>\n",
       "      <th>1</th>\n",
       "      <td>1259826247900770305</td>\n",
       "      <td>thePeaceFr0g</td>\n",
       "      <td>The_Peace Frog🐸</td>\n",
       "      <td>Pretoria Gauteng South Africa</td>\n",
       "      <td>204</td>\n",
       "      <td>1221</td>\n",
       "      <td>°|Motivational Speaker|°🙏\\nGraphics|🐰designer|...</td>\n",
       "    </tr>\n",
       "    <tr>\n",
       "      <th>2</th>\n",
       "      <td>1386438624</td>\n",
       "      <td>campos_rosalina</td>\n",
       "      <td>Rixxgirl</td>\n",
       "      <td>Porterville, California</td>\n",
       "      <td>16</td>\n",
       "      <td>114</td>\n",
       "      <td>Love zombies, old horror flicks, some dramas a...</td>\n",
       "    </tr>\n",
       "    <tr>\n",
       "      <th>3</th>\n",
       "      <td>1569314420135706624</td>\n",
       "      <td>BrownSkinn_DD</td>\n",
       "      <td>Destyne Lewis</td>\n",
       "      <td>None</td>\n",
       "      <td>1</td>\n",
       "      <td>66</td>\n",
       "      <td></td>\n",
       "    </tr>\n",
       "    <tr>\n",
       "      <th>4</th>\n",
       "      <td>1197427621891629056</td>\n",
       "      <td>monkeybearcares</td>\n",
       "      <td>MONKEYBEARCARES</td>\n",
       "      <td>None</td>\n",
       "      <td>71</td>\n",
       "      <td>431</td>\n",
       "      <td></td>\n",
       "    </tr>\n",
       "  </tbody>\n",
       "</table>\n",
       "</div>"
      ],
      "text/plain": [
       "                    id         username             name  \\\n",
       "0  1570115372401008642      SantSal0902            Santi   \n",
       "1  1259826247900770305     thePeaceFr0g  The_Peace Frog🐸   \n",
       "2           1386438624  campos_rosalina         Rixxgirl   \n",
       "3  1569314420135706624    BrownSkinn_DD    Destyne Lewis   \n",
       "4  1197427621891629056  monkeybearcares  MONKEYBEARCARES   \n",
       "\n",
       "                        location  follower_count  following  \\\n",
       "0                           None               0         74   \n",
       "1  Pretoria Gauteng South Africa             204       1221   \n",
       "2        Porterville, California              16        114   \n",
       "3                           None               1         66   \n",
       "4                           None              71        431   \n",
       "\n",
       "                                         description  \n",
       "0                                                     \n",
       "1  °|Motivational Speaker|°🙏\\nGraphics|🐰designer|...  \n",
       "2  Love zombies, old horror flicks, some dramas a...  \n",
       "3                                                     \n",
       "4                                                     "
      ]
     },
     "execution_count": 19,
     "metadata": {},
     "output_type": "execute_result"
    }
   ],
   "source": [
    "# checking dataframes to ensure proper data pull\n",
    "users_output_missy.head()"
   ]
  },
  {
   "cell_type": "code",
   "execution_count": 20,
   "id": "2311694f",
   "metadata": {},
   "outputs": [
    {
     "data": {
      "text/plain": [
       "'Home by Warsan Shire no one leaves home unless home is the mouth of a shark. you only run for the border when you see the whole city running as well.'"
      ]
     },
     "execution_count": 20,
     "metadata": {},
     "output_type": "execute_result"
    }
   ],
   "source": [
    "tricky_description = \"\"\"\n",
    "    Home by Warsan Shire\n",
    "    \n",
    "    no one leaves home unless\n",
    "    home is the mouth of a shark.\n",
    "    you only run for the border\n",
    "    when you see the whole city\n",
    "    running as well.\n",
    "\n",
    "\"\"\"\n",
    "# This won't work in a tab-delimited text file.\n",
    "\n",
    "clean_description = re.sub(r\"\\s+\",\" \",tricky_description).strip()\n",
    "clean_description"
   ]
  },
  {
   "cell_type": "markdown",
   "id": "45c13af3",
   "metadata": {},
   "source": [
    "# Lyrics Scrape\n",
    "\n",
    "This section asks you to pull data from the Twitter API and scrape www.AZLyrics.com. In the notebooks where you do that work you are asked to store the data in specific ways. "
   ]
  },
  {
   "cell_type": "code",
   "execution_count": 34,
   "id": "5bd7df77",
   "metadata": {},
   "outputs": [],
   "source": [
    "artists = {'mychemicalromance':\"https://www.azlyrics.com/m/mychemicalromance.html\",\n",
    "           'missy':\"https://www.azlyrics.com/m/missy.html\"} \n",
    "# we'll use this dictionary to hold both the artist name and the link on AZlyrics"
   ]
  },
  {
   "cell_type": "markdown",
   "id": "c236c99b",
   "metadata": {},
   "source": [
    "## A Note on Rate Limiting\n",
    "\n",
    "The lyrics site, www.azlyrics.com, does not have an explicit maximum on number of requests in any one time, but in our testing it appears that too many requests in too short a time will cause the site to stop returning lyrics pages. (Entertainingly, the page that gets returned seems to only have the song title to [a Tom Jones song](https://www.azlyrics.com/lyrics/tomjones/itsnotunusual.html).) \n",
    "\n",
    "Whenever you call `requests.get` to retrieve a page, put a `time.sleep(5 + 10*random.random())` on the next line. This will help you not to get blocked. If you _do_ get blocked, which you can identify if the returned pages are not correct, just request a lyrics page through your browser. You'll be asked to perform a CAPTCHA and then your requests should start working again. \n",
    "\n",
    "## Part 1: Finding Links to Songs Lyrics\n",
    "\n",
    "That general artist page has a list of all songs for that artist with links to the individual song pages. \n",
    "\n",
    "Q: Take a look at the `robots.txt` page on www.azlyrics.com. (You can read more about these pages [here](https://developers.google.com/search/docs/advanced/robots/intro).) Is the scraping we are about to do allowed or disallowed by this page? How do you know? \n",
    "\n",
    "A: Taking a look at the page www.azlyrics.com/robots.txt, it appears that we are allowed to scrape the lyrics. The only limitations are pages with the following paths:\n",
    "\n",
    "/lyricsdb/\n",
    "\n",
    "/song/\n",
    "\n",
    "Whether intentional or not, it appears that the path /song/ directs us to Rick Astley's \"Never Gonna Give You Up\".\n"
   ]
  },
  {
   "cell_type": "code",
   "execution_count": 35,
   "id": "ac9d31ec",
   "metadata": {},
   "outputs": [],
   "source": [
    "# Let's set up a dictionary of lists to hold our links\n",
    "lyrics_pages = defaultdict(list)\n",
    "\n",
    "# see https://www.geeksforgeeks.org/extract-all-the-urls-from-the-webpage-using-python/ for additional info\n",
    "\n",
    "# we've already specified our \"url\" in artists\n",
    "for artist, artist_page in artists.items() :\n",
    "    # request the page and sleep\n",
    "    r = requests.get(artist_page)\n",
    "    time.sleep(5 + 10*random.random())\n",
    "\n",
    "    # now extract the links to lyrics pages from this page\n",
    "    urls = []\n",
    "    soup = BeautifulSoup(r.text, 'html.parser')\n",
    "    for link in soup.find_all('a'):\n",
    "        if (\"lyrics/\" + artist) in str(link.get('href')):\n",
    "            urls.append('https://www.azlyrics.com/' + str(link.get('href')))\n",
    "    # store the links `lyrics_pages` where the key is the artist and the\n",
    "    # value is a list of links. \n",
    "    lyrics_pages[artist] = urls\n",
    "    "
   ]
  },
  {
   "cell_type": "code",
   "execution_count": 80,
   "id": "a811ecf8",
   "metadata": {},
   "outputs": [
    {
     "data": {
      "text/plain": [
       "['https://www.azlyrics.com//lyrics/mychemicalromance/honeythismirrorisntbigenoughforthetwoofus.html',\n",
       " 'https://www.azlyrics.com//lyrics/mychemicalromance/vampireswillneverhurtyou.html',\n",
       " 'https://www.azlyrics.com//lyrics/mychemicalromance/drowninglessons.html',\n",
       " 'https://www.azlyrics.com//lyrics/mychemicalromance/ourladyofsorrows.html',\n",
       " 'https://www.azlyrics.com//lyrics/mychemicalromance/headfirstforhalos.html',\n",
       " 'https://www.azlyrics.com//lyrics/mychemicalromance/skylinesandturnstiles.html',\n",
       " 'https://www.azlyrics.com//lyrics/mychemicalromance/earlysunsetsovermonroeville.html',\n",
       " 'https://www.azlyrics.com//lyrics/mychemicalromance/thisisthebestdayever.html',\n",
       " 'https://www.azlyrics.com//lyrics/mychemicalromance/cubicles.html',\n",
       " 'https://www.azlyrics.com//lyrics/mychemicalromance/demolitionlovers.html',\n",
       " 'https://www.azlyrics.com//lyrics/mychemicalromance/helena.html',\n",
       " 'https://www.azlyrics.com//lyrics/mychemicalromance/giveemhellkid.html',\n",
       " 'https://www.azlyrics.com//lyrics/mychemicalromance/totheend.html',\n",
       " 'https://www.azlyrics.com//lyrics/mychemicalromance/youknowwhattheydotoguyslikeusinprison.html',\n",
       " 'https://www.azlyrics.com//lyrics/mychemicalromance/imnotokayipromise.html',\n",
       " 'https://www.azlyrics.com//lyrics/mychemicalromance/theghostofyou.html',\n",
       " 'https://www.azlyrics.com//lyrics/mychemicalromance/thejetsetlifeisgonnakillyou.html',\n",
       " 'https://www.azlyrics.com//lyrics/mychemicalromance/interlude.html',\n",
       " 'https://www.azlyrics.com//lyrics/mychemicalromance/thankyouforthevenom.html',\n",
       " 'https://www.azlyrics.com//lyrics/mychemicalromance/hangemhigh.html',\n",
       " 'https://www.azlyrics.com//lyrics/mychemicalromance/itsnotafashionstatementitsafuckingdeathwish.html',\n",
       " 'https://www.azlyrics.com//lyrics/mychemicalromance/cemeterydrive.html',\n",
       " 'https://www.azlyrics.com//lyrics/mychemicalromance/inevertoldyouwhatidoforaliving.html',\n",
       " 'https://www.azlyrics.com//lyrics/mychemicalromance/burymeinblack.html',\n",
       " 'https://www.azlyrics.com//lyrics/mychemicalromance/theend.html',\n",
       " 'https://www.azlyrics.com//lyrics/mychemicalromance/dead.html',\n",
       " 'https://www.azlyrics.com//lyrics/mychemicalromance/thisishowidisappear.html',\n",
       " 'https://www.azlyrics.com//lyrics/mychemicalromance/thesharpestlives.html',\n",
       " 'https://www.azlyrics.com//lyrics/mychemicalromance/welcometotheblackparade.html',\n",
       " 'https://www.azlyrics.com//lyrics/mychemicalromance/idontloveyou.html',\n",
       " 'https://www.azlyrics.com//lyrics/mychemicalromance/houseofwolves.html',\n",
       " 'https://www.azlyrics.com//lyrics/mychemicalromance/cancer.html',\n",
       " 'https://www.azlyrics.com//lyrics/mychemicalromance/mama.html',\n",
       " 'https://www.azlyrics.com//lyrics/mychemicalromance/sleep.html',\n",
       " 'https://www.azlyrics.com//lyrics/mychemicalromance/teenagers.html',\n",
       " 'https://www.azlyrics.com//lyrics/mychemicalromance/disenchanted.html',\n",
       " 'https://www.azlyrics.com//lyrics/mychemicalromance/famouslastwords.html',\n",
       " 'https://www.azlyrics.com//lyrics/mychemicalromance/blood.html',\n",
       " 'https://www.azlyrics.com//lyrics/mychemicalromance/killallyourfriends.html',\n",
       " 'https://www.azlyrics.com//lyrics/mychemicalromance/heavenhelpus.html',\n",
       " 'https://www.azlyrics.com//lyrics/mychemicalromance/mywayhomeisthroughyou.html',\n",
       " 'https://www.azlyrics.com//lyrics/mychemicalromance/lookalivesunshine.html',\n",
       " 'https://www.azlyrics.com//lyrics/mychemicalromance/nanana.html',\n",
       " 'https://www.azlyrics.com//lyrics/mychemicalromance/bulletproofheart.html',\n",
       " 'https://www.azlyrics.com//lyrics/mychemicalromance/sing.html',\n",
       " 'https://www.azlyrics.com//lyrics/mychemicalromance/planetarygo.html',\n",
       " 'https://www.azlyrics.com//lyrics/mychemicalromance/theonlyhopeformeisyou.html',\n",
       " 'https://www.azlyrics.com//lyrics/mychemicalromance/jetstarandthekobrakidtrafficreport.html',\n",
       " 'https://www.azlyrics.com//lyrics/mychemicalromance/partypoison.html',\n",
       " 'https://www.azlyrics.com//lyrics/mychemicalromance/saveyourselfillholdthemback.html',\n",
       " 'https://www.azlyrics.com//lyrics/mychemicalromance/scarecrowscarecrow.html',\n",
       " 'https://www.azlyrics.com//lyrics/mychemicalromance/summertime.html',\n",
       " 'https://www.azlyrics.com//lyrics/mychemicalromance/destroya.html',\n",
       " 'https://www.azlyrics.com//lyrics/mychemicalromance/thekidsfromyesterday.html',\n",
       " 'https://www.azlyrics.com//lyrics/mychemicalromance/goodnitedrdeath.html',\n",
       " 'https://www.azlyrics.com//lyrics/mychemicalromance/vampiremoney.html',\n",
       " 'https://www.azlyrics.com//lyrics/mychemicalromance/wedontneedanothersongaboutcalifornia.html',\n",
       " 'https://www.azlyrics.com//lyrics/mychemicalromance/zeropercent.html',\n",
       " 'https://www.azlyrics.com//lyrics/mychemicalromance/ftwww.html',\n",
       " 'https://www.azlyrics.com//lyrics/mychemicalromance/mastasofravenkroft.html',\n",
       " 'https://www.azlyrics.com//lyrics/mychemicalromance/blackdragonfightingsociety.html',\n",
       " 'https://www.azlyrics.com//lyrics/mychemicalromance/boydivision.html',\n",
       " 'https://www.azlyrics.com//lyrics/mychemicalromance/tomorrowsmoney.html',\n",
       " 'https://www.azlyrics.com//lyrics/mychemicalromance/ambulance.html',\n",
       " 'https://www.azlyrics.com//lyrics/mychemicalromance/gun.html',\n",
       " 'https://www.azlyrics.com//lyrics/mychemicalromance/theworldisugly.html',\n",
       " 'https://www.azlyrics.com//lyrics/mychemicalromance/thelightbehindyoureyes.html',\n",
       " 'https://www.azlyrics.com//lyrics/mychemicalromance/kissthering.html',\n",
       " 'https://www.azlyrics.com//lyrics/mychemicalromance/makeroom.html',\n",
       " 'https://www.azlyrics.com//lyrics/mychemicalromance/surrenderthenight.html',\n",
       " 'https://www.azlyrics.com//lyrics/mychemicalromance/burnbright.html',\n",
       " 'https://www.azlyrics.com//lyrics/mychemicalromance/thefiveofusaredyingroughmix.html',\n",
       " 'https://www.azlyrics.com//lyrics/mychemicalromance/killallyourfriendslivedemo.html',\n",
       " 'https://www.azlyrics.com//lyrics/mychemicalromance/partyattheendoftheworldlivedemo.html',\n",
       " 'https://www.azlyrics.com//lyrics/mychemicalromance/mamalivedemo.html',\n",
       " 'https://www.azlyrics.com//lyrics/mychemicalromance/mywayhomeisthroughyoulivedemo.html',\n",
       " 'https://www.azlyrics.com//lyrics/mychemicalromance/notthatkindofgirllivedemo.html',\n",
       " 'https://www.azlyrics.com//lyrics/mychemicalromance/houseofwolvesversion1livedemo.html',\n",
       " 'https://www.azlyrics.com//lyrics/mychemicalromance/houseofwolvesversion2livedemo.html',\n",
       " 'https://www.azlyrics.com//lyrics/mychemicalromance/emilyroughmix.html',\n",
       " 'https://www.azlyrics.com//lyrics/mychemicalromance/disenchantedlivedemo.html',\n",
       " 'https://www.azlyrics.com//lyrics/mychemicalromance/alltheangelslivedemo.html',\n",
       " 'https://www.azlyrics.com//lyrics/mychemicalromance/alliwantforchristmasisyou.html',\n",
       " 'https://www.azlyrics.com//lyrics/mychemicalromance/artistheweapon.html',\n",
       " 'https://www.azlyrics.com//lyrics/mychemicalromance/astrozombies.html',\n",
       " 'https://www.azlyrics.com//lyrics/mychemicalromance/commonpeople.html',\n",
       " 'https://www.azlyrics.com//lyrics/mychemicalromance/cubiclesdemo.html',\n",
       " 'https://www.azlyrics.com//lyrics/mychemicalromance/deathbeforedisco.html',\n",
       " 'https://www.azlyrics.com//lyrics/mychemicalromance/desertsong.html',\n",
       " 'https://www.azlyrics.com//lyrics/mychemicalromance/desolationrow.html',\n",
       " 'https://www.azlyrics.com//lyrics/mychemicalromance/disenchantedshutupandplay.html',\n",
       " 'https://www.azlyrics.com//lyrics/mychemicalromance/everysnowflakeisdifferent.html',\n",
       " 'https://www.azlyrics.com//lyrics/mychemicalromance/fakeyourdeath.html',\n",
       " 'https://www.azlyrics.com//lyrics/mychemicalromance/helenaacoustic.html',\n",
       " 'https://www.azlyrics.com//lyrics/mychemicalromance/inevertoldyouwhatidoforalivingdemo.html',\n",
       " 'https://www.azlyrics.com//lyrics/mychemicalromance/jacktheripper.html',\n",
       " 'https://www.azlyrics.com//lyrics/mychemicalromance/knivessorrowdemo.html',\n",
       " 'https://www.azlyrics.com//lyrics/mychemicalromance/safeandsound.html',\n",
       " 'https://www.azlyrics.com//lyrics/mychemicalromance/sistertosleep.html',\n",
       " 'https://www.azlyrics.com//lyrics/mychemicalromance/song2.html',\n",
       " 'https://www.azlyrics.com//lyrics/mychemicalromance/stayuntitled.html',\n",
       " 'https://www.azlyrics.com//lyrics/mychemicalromance/thedrugs.html',\n",
       " 'https://www.azlyrics.com//lyrics/mychemicalromance/thefoundationsofdecay.html',\n",
       " 'https://www.azlyrics.com//lyrics/mychemicalromance/underpressure.html']"
      ]
     },
     "execution_count": 80,
     "metadata": {},
     "output_type": "execute_result"
    }
   ],
   "source": [
    "lyrics_pages['mychemicalromance']"
   ]
  },
  {
   "cell_type": "markdown",
   "id": "9c285ec1",
   "metadata": {},
   "source": [
    "Let's make sure we have enough lyrics pages to scrape. "
   ]
  },
  {
   "cell_type": "code",
   "execution_count": 38,
   "id": "ae4cda68",
   "metadata": {},
   "outputs": [],
   "source": [
    "for artist, lp in lyrics_pages.items() :\n",
    "    assert(len(set(lp)) > 20) "
   ]
  },
  {
   "cell_type": "code",
   "execution_count": 57,
   "id": "edca10d6",
   "metadata": {},
   "outputs": [
    {
     "name": "stdout",
     "output_type": "stream",
     "text": [
      "For mychemicalromance we have 104 songs.\n",
      "The full pull for this artist will take 0.29 hours.\n",
      "For missy we have 125 songs.\n",
      "The full pull for this artist will take 0.35 hours.\n"
     ]
    }
   ],
   "source": [
    "# Let's see how long it's going to take to pull these lyrics \n",
    "# if we're waiting `5 + 10*random.random()` seconds \n",
    "for artist, links in lyrics_pages.items() : \n",
    "    print(f\"For {artist} we have {len(links)} songs.\")\n",
    "    print(f\"The full pull for this artist will take {round(len(links)*10/3600,2)} hours.\")"
   ]
  },
  {
   "cell_type": "markdown",
   "id": "011be6c6",
   "metadata": {},
   "source": [
    "## Part 2: Pulling Lyrics\n",
    "\n",
    "Now that we have the links to our lyrics pages, let's go scrape them! Here are the steps for this part. \n",
    "\n",
    "1. Create an empty folder in our repo called \"lyrics\". \n",
    "1. Iterate over the artists in `lyrics_pages`. \n",
    "1. Create a subfolder in lyrics with the artist's name. For instance, if the artist was Cher you'd have `lyrics/cher/` in your repo.\n",
    "1. Iterate over the pages. \n",
    "1. Request the page and extract the lyrics from the returned HTML file using BeautifulSoup.\n",
    "1. Use the function below, `generate_filename_from_url`, to create a filename based on the lyrics page, then write the lyrics to a text file with that name. \n"
   ]
  },
  {
   "cell_type": "code",
   "execution_count": 86,
   "id": "67693711",
   "metadata": {},
   "outputs": [],
   "source": [
    "def generate_filename_from_link(link) :\n",
    "    \n",
    "    if not link :\n",
    "        return None\n",
    "    \n",
    "    # drop the http or https and the html\n",
    "    name = link.replace(\"https\",\"\").replace(\"http\",\"\")\n",
    "    name = link.replace(\".html\",\"\")\n",
    "\n",
    "    name = name.replace(\"/lyrics/\",\"\")\n",
    "    name = name.replace(\"https://www.azlyrics.com/\", \"\")\n",
    "    \n",
    "    # Replace useless chareacters with UNDERSCORE\n",
    "    name = name.replace(\"://\",\"\").replace(\".\",\"_\").replace(\"/\",\"_\")\n",
    "    \n",
    "    # tack on .txt\n",
    "    name = name + \".txt\"\n",
    "    \n",
    "    return(name)\n"
   ]
  },
  {
   "cell_type": "code",
   "execution_count": 87,
   "id": "94a78c78",
   "metadata": {},
   "outputs": [],
   "source": [
    "# Make the lyrics folder here. If you'd like to practice your programming, add functionality \n",
    "# that checks to see if the folder exists. If it does, then use shutil.rmtree to remove it and create a new one.\n",
    "\n",
    "if not os.path.isdir(\"lyrics\") : \n",
    "    shutil.rmtree(\"lyrics/\")\n",
    "\n",
    "    os.mkdir(\"lyrics\")"
   ]
  },
  {
   "cell_type": "code",
   "execution_count": 89,
   "id": "d655b687",
   "metadata": {},
   "outputs": [],
   "source": [
    "url_stub = \"https://www.azlyrics.com\" \n",
    "start = time.time()\n",
    "\n",
    "total_pages = 0 \n",
    "\n",
    "for artist in lyrics_pages :\n",
    "\n",
    "    # Use this space to carry out the following steps: \n",
    "    \n",
    "    # 1. Build a subfolder for the artist\n",
    "    \n",
    "    # follow example for creating lyrics folder\n",
    "    if os.path.isdir(\"lyrics/\" + artist):\n",
    "        shutil.rmtree(\"lyrics/\" + artist)\n",
    "    \n",
    "    os.mkdir(\"lyrics/\" + artist)\n",
    "    path = \"lyrics/\" + artist\n",
    "        \n",
    "    # 2. Iterate over the lyrics pages\n",
    "    for song in lyrics_pages[artist]:\n",
    "        \n",
    "    # 3. Request the lyrics page. \n",
    "        # Don't forget to add a line like `time.sleep(5 + 10*random.random())`\n",
    "        # to sleep after making the request\n",
    "        lyric_page = requests.get(song)\n",
    "        time.sleep(5+10*random.random())\n",
    "        soup_lyrics = BeautifulSoup(lyric_page.content)\n",
    "        \n",
    "    # 4. Extract the title and lyrics from the page.\n",
    "        song_name = soup_lyrics.find(\"b\").get_text()\n",
    "        song_lyrics = soup_lyrics.find(\"div\", class_=False, id=False).get_text()\n",
    "        \n",
    "    # 5. Write out the title, two returns ('\\n'), and the lyrics. Use `generate_filename_from_url`\n",
    "        # to generate the filename. \n",
    "        the_song = song_name + '\\n' + '\\n' + song_lyrics\n",
    "        to_folder = os.path.join(path, generate_filename_from_link(song))\n",
    "        file = open(to_folder, 'w')\n",
    "        file.write(the_song)\n",
    "    \n",
    "    # Remember to pull at least 20 songs per artist. It may be fun to pull all the songs for the artist\n",
    "    "
   ]
  },
  {
   "cell_type": "code",
   "execution_count": 90,
   "id": "36c394f1",
   "metadata": {},
   "outputs": [
    {
     "name": "stdout",
     "output_type": "stream",
     "text": [
      "Total run time was 0.67 hours.\n"
     ]
    }
   ],
   "source": [
    "print(f\"Total run time was {round((time.time() - start)/3600,2)} hours.\")"
   ]
  },
  {
   "cell_type": "markdown",
   "id": "054cf14b",
   "metadata": {},
   "source": [
    "---\n",
    "\n",
    "# Evaluation\n",
    "\n",
    "This assignment asks you to pull data from the Twitter API and scrape www.AZLyrics.com.  After you have finished the above sections , run all the cells in this notebook. Print this to PDF and submit it, per the instructions."
   ]
  },
  {
   "cell_type": "code",
   "execution_count": 91,
   "id": "217c2b0a",
   "metadata": {},
   "outputs": [],
   "source": [
    "# Simple word extractor from Peter Norvig: https://norvig.com/spell-correct.html\n",
    "def words(text): \n",
    "    return re.findall(r'\\w+', text.lower())"
   ]
  },
  {
   "cell_type": "markdown",
   "id": "9290b4c3",
   "metadata": {},
   "source": [
    "---\n",
    "\n",
    "## Checking Twitter Data\n",
    "\n",
    "The output from your Twitter API pull should be two files per artist, stored in files with formats like `cher_followers.txt` (a list of all follower IDs you pulled) and `cher_followers_data.txt`. These files should be in a folder named `twitter` within the repository directory. This code summarizes the information at a high level to help the instructor evaluate your work. "
   ]
  },
  {
   "cell_type": "code",
   "execution_count": 92,
   "id": "d2174c46",
   "metadata": {},
   "outputs": [
    {
     "name": "stdout",
     "output_type": "stream",
     "text": [
      "We see two artist handles: MCRofficial and MissyElliott.\n"
     ]
    }
   ],
   "source": [
    "twitter_files = os.listdir(\"twitter\")\n",
    "twitter_files = [f for f in twitter_files if f != \".DS_Store\"]\n",
    "artist_handles = list(set([name.split(\"_\")[0] for name in twitter_files]))\n",
    "\n",
    "print(f\"We see two artist handles: {artist_handles[0]} and {artist_handles[1]}.\")"
   ]
  },
  {
   "cell_type": "code",
   "execution_count": 95,
   "id": "7ad545be",
   "metadata": {},
   "outputs": [
    {
     "name": "stdout",
     "output_type": "stream",
     "text": [
      "We see 99996 in your follower file for MCRofficial, assuming a header row.\n",
      "In the follower data file (MCRofficial_followers.txt) for MCRofficial, we have these columns:\n",
      "id : username : name : location : follower_count : following : description\n",
      "\n",
      "We have 128407 data rows for MCRofficial in the follower data file.\n",
      "For MCRofficial we have 26372 unique locations.\n",
      "For MCRofficial we have 563428 words in the descriptions.\n",
      "Here are the five most common words:\n",
      "[('i', 14708), ('and', 9948), ('a', 8681), ('the', 7882), ('to', 5828)]\n",
      "\n",
      "----------------------------------------\n",
      "\n",
      "We see 99992 in your follower file for MissyElliott, assuming a header row.\n",
      "In the follower data file (MissyElliott_followers.txt) for MissyElliott, we have these columns:\n",
      "id : username : name : location : follower_count : following : description\n",
      "\n",
      "We have 114991 data rows for MissyElliott in the follower data file.\n",
      "For MissyElliott we have 14232 unique locations.\n",
      "For MissyElliott we have 476022 words in the descriptions.\n",
      "Here are the five most common words:\n",
      "[('i', 14213), ('and', 11575), ('a', 9612), ('the', 8454), ('to', 7682)]\n",
      "\n",
      "----------------------------------------\n",
      "\n"
     ]
    }
   ],
   "source": [
    "# when pulling twitter follower data, I had switched the file names\n",
    "# _followers contains all follower data\n",
    "# _follower_data contains only the IDs\n",
    "# will modify the evaluation code below to reflect this\n",
    "\n",
    "for artist in artist_handles :\n",
    "    follower_file = artist + \"_follower_data.txt\"\n",
    "    follower_data_file = artist + \"_followers.txt\"\n",
    "    \n",
    "    ids = open(\"twitter/\" + follower_file,'r').readlines()\n",
    "    \n",
    "    print(f\"We see {len(ids)-1} in your follower file for {artist}, assuming a header row.\")\n",
    "    \n",
    "    with open(\"twitter/\" + follower_data_file,'r') as infile :\n",
    "        \n",
    "        # check the headers\n",
    "        headers = infile.readline().split(\"\\t\")\n",
    "        \n",
    "        print(f\"In the follower data file ({follower_data_file}) for {artist}, we have these columns:\")\n",
    "        print(\" : \".join(headers))\n",
    "        \n",
    "        description_words = []\n",
    "        locations = set()\n",
    "        \n",
    "        \n",
    "        for idx, line in enumerate(infile.readlines()) :\n",
    "            line = line.strip(\"\\n\").split(\"\\t\")\n",
    "            \n",
    "            try : \n",
    "                locations.add(line[3])            \n",
    "                description_words.extend(words(line[6]))\n",
    "            except :\n",
    "                pass\n",
    "    \n",
    "        \n",
    "\n",
    "        print(f\"We have {idx+1} data rows for {artist} in the follower data file.\")\n",
    "\n",
    "        print(f\"For {artist} we have {len(locations)} unique locations.\")\n",
    "\n",
    "        print(f\"For {artist} we have {len(description_words)} words in the descriptions.\")\n",
    "        print(\"Here are the five most common words:\")\n",
    "        print(Counter(description_words).most_common(5))\n",
    "\n",
    "        \n",
    "        print(\"\")\n",
    "        print(\"-\"*40)\n",
    "        print(\"\")\n",
    "    "
   ]
  },
  {
   "cell_type": "markdown",
   "id": "52bb6abc",
   "metadata": {},
   "source": [
    "Note that the number of data rows between follower and follower_data files for each respective artist does not match. I suspect I may have miscoded the twitter IDs, thus generating additional entries. "
   ]
  },
  {
   "cell_type": "markdown",
   "id": "37778a1c",
   "metadata": {},
   "source": [
    "## Checking Lyrics \n",
    "\n",
    "The output from your lyrics scrape should be stored in files located in this path from the directory:\n",
    "`/lyrics/[Artist Name]/[filename from URL]`. This code summarizes the information at a high level to help the instructor evaluate your work. "
   ]
  },
  {
   "cell_type": "code",
   "execution_count": 96,
   "id": "bccac29c",
   "metadata": {},
   "outputs": [
    {
     "name": "stdout",
     "output_type": "stream",
     "text": [
      "For mychemicalromance we have 104 files.\n",
      "For mychemicalromance we have roughly 33519 words, 2320 are unique.\n",
      "For missy we have 125 files.\n",
      "For missy we have roughly 59377 words, 5036 are unique.\n"
     ]
    }
   ],
   "source": [
    "artist_folders = os.listdir(\"lyrics/\")\n",
    "artist_folders = [f for f in artist_folders if os.path.isdir(\"lyrics/\" + f)]\n",
    "\n",
    "for artist in artist_folders : \n",
    "    artist_files = os.listdir(\"lyrics/\" + artist)\n",
    "    artist_files = [f for f in artist_files if 'txt' in f or 'csv' in f or 'tsv' in f]\n",
    "\n",
    "    print(f\"For {artist} we have {len(artist_files)} files.\")\n",
    "\n",
    "    artist_words = []\n",
    "\n",
    "    for f_name in artist_files : \n",
    "        with open(\"lyrics/\" + artist + \"/\" + f_name) as infile : \n",
    "            artist_words.extend(words(infile.read()))\n",
    "\n",
    "            \n",
    "    print(f\"For {artist} we have roughly {len(artist_words)} words, {len(set(artist_words))} are unique.\")\n"
   ]
  },
  {
   "cell_type": "code",
   "execution_count": null,
   "id": "a246b4fa",
   "metadata": {},
   "outputs": [],
   "source": []
  }
 ],
 "metadata": {
  "kernelspec": {
   "display_name": "Python 3",
   "language": "python",
   "name": "python3"
  },
  "language_info": {
   "codemirror_mode": {
    "name": "ipython",
    "version": 3
   },
   "file_extension": ".py",
   "mimetype": "text/x-python",
   "name": "python",
   "nbconvert_exporter": "python",
   "pygments_lexer": "ipython3",
   "version": "3.8.8"
  }
 },
 "nbformat": 4,
 "nbformat_minor": 5
}
