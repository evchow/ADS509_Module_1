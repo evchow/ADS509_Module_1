{
 "cells": [
  {
   "cell_type": "markdown",
   "id": "95952cac",
   "metadata": {},
   "source": [
    "# ADS 509 Module 1: APIs and Web Scraping\n",
    "\n",
    "This notebook has three parts. In the first part you will pull data from the Twitter API. In the second, you will scrape lyrics from AZLyrics.com. In the last part, you'll run code that verifies the completeness of your data pull. \n",
    "\n",
    "For this assignment you have chosen two musical artists who have at least 100,000 Twitter followers and 20 songs with lyrics on AZLyrics.com. In this part of the assignment we pull the some of the user information for the followers of your artist and store them in text files. \n"
   ]
  },
  {
   "cell_type": "markdown",
   "id": "4ce62b2b",
   "metadata": {},
   "source": [
    "## Important Note\n",
    "\n",
    "This assignment requires you to have a version of Tweepy that is at least version 4. The latest version is 4.10 as I write this. Critically, this version of Tweepy is *not* on the upgrade path from Version 3, so you will not be able to simply upgrade the package if you are on Version 3. Instead you will need to explicitly install version 4, which you can do with a command like this: `pip install \"tweepy>=4\"`. You will also be using Version 2 of the Twitter API for this assignment. \n",
    "\n",
    "Run the below cell. If your version of Tweepy begins with a \"4\", then you should be good to go. If it begins with a \"3\" then run the following command, found [here](https://stackoverflow.com/questions/5226311/installing-specific-package-version-with-pip), at the command line or in a cell: `pip install -Iv tweepy==4.9`. (You may want to update that version number if Tweepy has moved on past 4.9. "
   ]
  },
  {
   "cell_type": "code",
   "execution_count": 1,
   "id": "84ee7256",
   "metadata": {},
   "outputs": [
    {
     "name": "stdout",
     "output_type": "stream",
     "text": [
      "\u001b[33mWARNING: Ignoring invalid distribution -andas (/opt/anaconda3/lib/python3.8/site-packages)\u001b[0m\n",
      "\u001b[33mWARNING: Ignoring invalid distribution -andas (/opt/anaconda3/lib/python3.8/site-packages)\u001b[0m\n",
      "Requirement already satisfied: tweepy>=4 in /opt/anaconda3/lib/python3.8/site-packages (4.10.1)\n",
      "Requirement already satisfied: requests<3,>=2.27.0 in /opt/anaconda3/lib/python3.8/site-packages (from tweepy>=4) (2.28.1)\n",
      "Requirement already satisfied: requests-oauthlib<2,>=1.2.0 in /opt/anaconda3/lib/python3.8/site-packages (from tweepy>=4) (1.3.1)\n",
      "Requirement already satisfied: oauthlib<4,>=3.2.0 in /opt/anaconda3/lib/python3.8/site-packages (from tweepy>=4) (3.2.1)\n",
      "Requirement already satisfied: certifi>=2017.4.17 in /opt/anaconda3/lib/python3.8/site-packages (from requests<3,>=2.27.0->tweepy>=4) (2022.6.15)\n",
      "Requirement already satisfied: idna<4,>=2.5 in /opt/anaconda3/lib/python3.8/site-packages (from requests<3,>=2.27.0->tweepy>=4) (2.10)\n",
      "Requirement already satisfied: urllib3<1.27,>=1.21.1 in /opt/anaconda3/lib/python3.8/site-packages (from requests<3,>=2.27.0->tweepy>=4) (1.26.6)\n",
      "Requirement already satisfied: charset-normalizer<3,>=2 in /opt/anaconda3/lib/python3.8/site-packages (from requests<3,>=2.27.0->tweepy>=4) (2.1.1)\n",
      "\u001b[33mWARNING: Ignoring invalid distribution -andas (/opt/anaconda3/lib/python3.8/site-packages)\u001b[0m\n",
      "\u001b[33mWARNING: Ignoring invalid distribution -andas (/opt/anaconda3/lib/python3.8/site-packages)\u001b[0m\n",
      "\u001b[33mWARNING: Ignoring invalid distribution -andas (/opt/anaconda3/lib/python3.8/site-packages)\u001b[0m\n",
      "\u001b[33mWARNING: Ignoring invalid distribution -andas (/opt/anaconda3/lib/python3.8/site-packages)\u001b[0m\n"
     ]
    }
   ],
   "source": [
    "# let's install the appropriate version of tweepy\n",
    "!pip install \"tweepy>=4\""
   ]
  },
  {
   "cell_type": "code",
   "execution_count": 2,
   "id": "23cf2158",
   "metadata": {},
   "outputs": [
    {
     "name": "stdout",
     "output_type": "stream",
     "text": [
      "\u001b[33mWARNING: Ignoring invalid distribution -andas (/opt/anaconda3/lib/python3.8/site-packages)\u001b[0m\n",
      "Name: tweepy\n",
      "Version: 4.10.1\n",
      "Summary: Twitter library for Python\n",
      "Home-page: https://www.tweepy.org/\n",
      "Author: Joshua Roesslein\n",
      "Author-email: tweepy@googlegroups.com\n",
      "License: MIT\n",
      "Location: /opt/anaconda3/lib/python3.8/site-packages\n",
      "Requires: requests-oauthlib, requests, oauthlib\n",
      "Required-by: \n"
     ]
    }
   ],
   "source": [
    "# verify tweepy version\n",
    "!pip show tweepy"
   ]
  },
  {
   "cell_type": "markdown",
   "id": "91c8969e",
   "metadata": {},
   "source": [
    "# Twitter API Pull"
   ]
  },
  {
   "cell_type": "code",
   "execution_count": 3,
   "id": "185076b0",
   "metadata": {},
   "outputs": [],
   "source": [
    "# for the twitter section\n",
    "import tweepy\n",
    "import os\n",
    "import datetime\n",
    "import re\n",
    "from pprint import pprint\n",
    "\n",
    "# for the lyrics scrape section\n",
    "import requests\n",
    "import time\n",
    "from bs4 import BeautifulSoup\n",
    "from collections import defaultdict, Counter\n"
   ]
  },
  {
   "cell_type": "code",
   "execution_count": 4,
   "id": "a47e2d5f",
   "metadata": {},
   "outputs": [],
   "source": [
    "# Use this cell for any import statements you add\n",
    "import random\n",
    "import pandas as pd"
   ]
  },
  {
   "cell_type": "markdown",
   "id": "c21c86ec",
   "metadata": {},
   "source": [
    "We need bring in our API keys. Since API keys should be kept secret, we'll keep them in a file called `api_keys.py`. This file should be stored in the directory where you store this notebook. The example file is provided for you on Blackboard. The example has API keys that are _not_ functional, so you'll need to get Twitter credentials and replace the placeholder keys. "
   ]
  },
  {
   "cell_type": "code",
   "execution_count": 5,
   "id": "f01bdec6",
   "metadata": {},
   "outputs": [],
   "source": [
    "# contents of api_keys.py will be hidden from repository to maintain secrecy\n",
    "# api_keys.py was created manually with API keys copied over\n",
    "from api_keys import api_key, api_key_secret, bearer_token"
   ]
  },
  {
   "cell_type": "code",
   "execution_count": 6,
   "id": "d08eb1fd",
   "metadata": {},
   "outputs": [],
   "source": [
    "client = tweepy.Client(bearer_token,wait_on_rate_limit=True)"
   ]
  },
  {
   "cell_type": "markdown",
   "id": "6aa67032",
   "metadata": {},
   "source": [
    "# Testing the API\n",
    "\n",
    "The Twitter APIs are quite rich. Let's play around with some of the features before we dive into this section of the assignment. For our testing, it's convenient to have a small data set to play with. We will seed the code with the handle of John Chandler, one of the instructors in this course. His handle is `@37chandler`. Feel free to use a different handle if you would like to look at someone else's data. \n",
    "\n",
    "We will write code to explore a few aspects of the API: \n",
    "\n",
    "1. Pull some of the followers @37chandler.\n",
    "1. Explore response data, which gives us information about Twitter users. \n",
    "1. Pull the last few tweets by @37chandler.\n"
   ]
  },
  {
   "cell_type": "code",
   "execution_count": 7,
   "id": "76cf6447",
   "metadata": {},
   "outputs": [
    {
     "name": "stderr",
     "output_type": "stream",
     "text": [
      "Rate limit exceeded. Sleeping for 547 seconds.\n"
     ]
    }
   ],
   "source": [
    "# this identifies the twitter handle we'll be basing our pulls from\n",
    "handle = \"37chandler\"\n",
    "user_obj = client.get_user(username=handle)\n",
    "\n",
    "# see https://docs.tweepy.org/en/v4.0.1/client.html\n",
    "# client.get_users_followers retrieves follower data of specified handle\n",
    "followers = client.get_users_followers(\n",
    "    # Learn about user fields here: \n",
    "    # https://developer.twitter.com/en/docs/twitter-api/data-dictionary/object-model/user\n",
    "    user_obj.data.id, user_fields=[\"created_at\",\"description\",\"location\",\n",
    "                                   \"public_metrics\"]\n",
    ")\n",
    "\n"
   ]
  },
  {
   "cell_type": "markdown",
   "id": "de7892a4",
   "metadata": {},
   "source": [
    "Now let's explore these a bit. We'll start by printing out names, locations, following count, and followers count for these users. "
   ]
  },
  {
   "cell_type": "code",
   "execution_count": 8,
   "id": "c48d6bc9",
   "metadata": {},
   "outputs": [
    {
     "name": "stdout",
     "output_type": "stream",
     "text": [
      "Dave Renn lists 'None' as their location.\n",
      " Following: 43, Followers: 10.\n",
      "\n",
      "Lionel lists 'None' as their location.\n",
      " Following: 202, Followers: 204.\n",
      "\n",
      "Megan Randall lists 'None' as their location.\n",
      " Following: 141, Followers: 100.\n",
      "\n",
      "Jacob Salzman lists 'None' as their location.\n",
      " Following: 562, Followers: 134.\n",
      "\n",
      "twiter not fun lists 'None' as their location.\n",
      " Following: 220, Followers: 21.\n",
      "\n",
      "Hariettwilsonincarnate lists 'None' as their location.\n",
      " Following: 219, Followers: 61.\n",
      "\n",
      "Christian Tinsley lists 'None' as their location.\n",
      " Following: 2, Followers: 0.\n",
      "\n",
      "Steve lists 'I'm over here.' as their location.\n",
      " Following: 1591, Followers: 33.\n",
      "\n",
      "John O'Connor 🇺🇦 lists 'None' as their location.\n",
      " Following: 8, Followers: 1.\n",
      "\n",
      "CodeGrade lists 'Amsterdam' as their location.\n",
      " Following: 2819, Followers: 424.\n",
      "\n",
      "Cleverhood lists 'Providence, RI' as their location.\n",
      " Following: 2795, Followers: 3562.\n",
      "\n",
      "Regina 🚶‍♀️🚲🌳 lists 'Minneapolis' as their location.\n",
      " Following: 2801, Followers: 3338.\n",
      "\n",
      "Eric Hallstrom lists 'Missoula, MT' as their location.\n",
      " Following: 464, Followers: 305.\n",
      "\n",
      "Tyler 📊 🐕 🚲 lists 'Minneapolis, MN' as their location.\n",
      " Following: 528, Followers: 83.\n",
      "\n",
      "The Center for Community Ownership (CCO) lists 'None' as their location.\n",
      " Following: 53, Followers: 40.\n",
      "\n",
      "Deepak Chauhan lists 'None' as their location.\n",
      " Following: 451, Followers: 25.\n",
      "\n",
      "Patsy lists 'Seattle, WA' as their location.\n",
      " Following: 156, Followers: 15.\n",
      "\n",
      "andrew lists 'St Paul, MN' as their location.\n",
      " Following: 1415, Followers: 461.\n",
      "\n",
      "Ada Smith lists 'None' as their location.\n",
      " Following: 274, Followers: 198.\n",
      "\n",
      "Stacey Burns lists 'Minneapolis Witch District' as their location.\n",
      " Following: 4584, Followers: 10881.\n",
      "\n"
     ]
    }
   ],
   "source": [
    "num_to_print = 20\n",
    "\n",
    "for idx, user in enumerate(followers.data) :\n",
    "    # let's separate the public_metrics into following and follower counts\n",
    "    following_count = user.public_metrics['following_count']\n",
    "    followers_count = user.public_metrics['followers_count']\n",
    "    \n",
    "    print(f\"{user.name} lists '{user.location}' as their location.\")\n",
    "    print(f\" Following: {following_count}, Followers: {followers_count}.\")\n",
    "    print()\n",
    "    \n",
    "    if idx >= (num_to_print - 1) :\n",
    "        break\n",
    "    "
   ]
  },
  {
   "cell_type": "markdown",
   "id": "8bbfe05f",
   "metadata": {},
   "source": [
    "Let's find the person who follows this handle who has the most followers. "
   ]
  },
  {
   "cell_type": "code",
   "execution_count": 9,
   "id": "bda3eec3",
   "metadata": {},
   "outputs": [
    {
     "name": "stdout",
     "output_type": "stream",
     "text": [
      "WedgeLIVE\n",
      "{'followers_count': 14185, 'following_count': 2221, 'tweet_count': 56119, 'listed_count': 218}\n"
     ]
    }
   ],
   "source": [
    "max_followers = 0\n",
    "\n",
    "for idx, user in enumerate(followers.data) :\n",
    "    followers_count = user.public_metrics['followers_count']\n",
    "    \n",
    "    if followers_count > max_followers :\n",
    "        max_followers = followers_count\n",
    "        max_follower_user = user\n",
    "\n",
    "        \n",
    "print(max_follower_user)\n",
    "print(max_follower_user.public_metrics)"
   ]
  },
  {
   "cell_type": "markdown",
   "id": "2dad0a3f",
   "metadata": {},
   "source": [
    "Let's pull some more user fields and take a look at them. The fields can be specified in the `user_fields` argument. "
   ]
  },
  {
   "cell_type": "code",
   "execution_count": 10,
   "id": "0432bbb7",
   "metadata": {},
   "outputs": [],
   "source": [
    "response = client.get_user(id=user_obj.data.id,\n",
    "                          user_fields=[\"created_at\",\"description\",\"location\",\n",
    "                                       \"entities\",\"name\",\"pinned_tweet_id\",\"profile_image_url\",\n",
    "                                       \"verified\",\"public_metrics\"])"
   ]
  },
  {
   "cell_type": "code",
   "execution_count": 11,
   "id": "eb69f9cb",
   "metadata": {},
   "outputs": [
    {
     "name": "stdout",
     "output_type": "stream",
     "text": [
      "for description we have He/Him. Data scientist, urban cyclist, educator, erstwhile frisbee player. \n",
      "\n",
      "¯\\_(ツ)_/¯\n",
      "for username we have 37chandler\n",
      "for verified we have False\n",
      "for location we have MN\n",
      "for name we have John Chandler\n",
      "for id we have 33029025\n",
      "for created_at we have 2009-04-18 22:08:22+00:00\n",
      "for profile_image_url we have https://pbs.twimg.com/profile_images/2680483898/b30ae76f909352dbae5e371fb1c27454_normal.png\n",
      "for public_metrics we have {'followers_count': 193, 'following_count': 589, 'tweet_count': 997, 'listed_count': 3}\n"
     ]
    }
   ],
   "source": [
    "for field, value in response.data.items() :\n",
    "    print(f\"for {field} we have {value}\")"
   ]
  },
  {
   "cell_type": "markdown",
   "id": "6abc5dc6",
   "metadata": {},
   "source": [
    "Now a few questions for you about the user object.\n",
    "\n",
    "Q: How many fields are being returned in the `response` object? \n",
    "\n",
    "A: We have nine fields being returned in the `response` object. One of the fields (\"public_metrics\") returns four subfields.\n",
    "\n",
    "---\n",
    "\n",
    "Q: Are any of the fields within the user object non-scalar? (I.e., more complicated than a simple data type like integer, float, string, boolean, etc.) \n",
    "\n",
    "A: Yes, one of the fields (\"profile_image_url\") returns a url for a profile image.\n",
    "\n",
    "---\n",
    "\n",
    "Q: How many friends, followers, and tweets does this user have? \n",
    "\n",
    "A: This user has 589 friends, 193 followers, and 997 tweets.\n"
   ]
  },
  {
   "cell_type": "markdown",
   "id": "d8564d2c",
   "metadata": {},
   "source": [
    "Although you won't need it for this assignment, individual tweets can be a rich source of text-based data. To illustrate the concepts, let's look at the last few tweets for this user. You are encouraged to explore the fields that are available about Tweets."
   ]
  },
  {
   "cell_type": "code",
   "execution_count": 12,
   "id": "70b8e93a",
   "metadata": {},
   "outputs": [
    {
     "name": "stdout",
     "output_type": "stream",
     "text": [
      "1569760631548690437\n",
      "RT @dtmooreeditor: So there's a particular quirk of English grammar that I've always found quite endearing: the exocentric verb-noun compou…\n",
      "\n",
      "1569155273742327811\n",
      "As a Minneapolis person, I knew we had Toronto beat, but I didn't realize Portland had us beat: https://t.co/xrx5mOFcWK.\n",
      "\n",
      "But @nytimes, c'mon! https://t.co/M9mBWhdgsj\n",
      "\n",
      "1568982292923826176\n",
      "RT @wonderofscience: Amazing lenticular cloud over Mount Fuji\n",
      "\n",
      "Credit: Iurie Belegurschi\n",
      "https://t.co/0mUxl28H9U\n",
      "\n",
      "1568242374085869570\n",
      "RT @depthsofwiki: lots of memes about speedy wikipedia editors — quick thread about what went down on wikipedia in the minutes after her de…\n",
      "\n",
      "1568074978754703361\n",
      "@DrLaurenWilson @leighradwood @MaritsaGeorgiou @Walgreens I could not possibly agree more with this sentiment. Compared to almost any other primary care I've received, they are great.\n",
      "\n",
      "1567530169686196224\n",
      "@DrLaurenWilson @MaritsaGeorgiou @Walgreens For those who have access to Curry Health Center on campus, you can get a bivalent booster in 15 minutes from their delightful staff.\n",
      "\n",
      "1567511181526708224\n",
      "RT @shes_the_maNN1: I can’t describe how ancient this makes me feel. https://t.co/a1IvELjOFY\n",
      "\n",
      "1567510612665864193\n",
      "RT @AngryBlackLady: this is hilarious\n",
      "\n",
      "1566031636457725953\n",
      "RT @MarkJacob16: With all the arguments over whether MAGA Republicans are fascists, I reread William Shirer’s “The Rise and Fall of the Thi…\n",
      "\n",
      "1563737816219000832\n",
      "RT @wonderofscience: The Milky Way galaxy and a phenomenon known as \"airglow\" seen from the International Space Station. https://t.co/bOLt8…\n",
      "\n"
     ]
    }
   ],
   "source": [
    "# see https://docs.tweepy.org/en/v4.0.1/client.html\n",
    "# this retrieves tweets from specified handle (user_obj.data.id)\n",
    "response = client.get_users_tweets(user_obj.data.id)\n",
    "\n",
    "# By default, only the ID and text fields of each Tweet will be returned\n",
    "for idx, tweet in enumerate(response.data) :\n",
    "    print(tweet.id)\n",
    "    print(tweet.text)\n",
    "    print()\n",
    "    \n",
    "    # the following indicates that when the idx iteration is greater than 10 -> stop\n",
    "    if idx > 10 :\n",
    "        break"
   ]
  },
  {
   "cell_type": "markdown",
   "id": "66d50726",
   "metadata": {},
   "source": [
    "## Pulling Follower Information\n",
    "\n",
    "In this next section of the assignment, we will pull information about the followers of your two artists. We've seen above how to pull a set of followers using `client.get_users_followers`. This function has a parameter, `max_results`, that we can use to change the number of followers that we pull. Unfortunately, we can only pull 1000 followers at a time, which means we will need to handle the _pagination_ of our results. \n",
    "\n",
    "The return object has the `.data` field, where the results will be found. It also has `.meta`, which we use to select the next \"page\" in the results using the `next_token` result. I will illustrate the ideas using our user from above. \n",
    "\n",
    "\n",
    "### Rate Limiting\n",
    "\n",
    "Twitter limits the rates at which we can pull data, as detailed in [this guide](https://developer.twitter.com/en/docs/twitter-api/rate-limits). We can make 15 user requests per 15 minutes, meaning that we can pull $4 \\cdot 15 \\cdot 1000 = 60000$ users per hour. I illustrate the handling of rate limiting below, though whether or not you hit that part of the code depends on your value of `handle`.  \n",
    "\n",
    "\n",
    "In the below example, I'll pull all the followers, 25 at a time. (We're using 25 to illustrate the idea; when you do this set the value to 1000.) "
   ]
  },
  {
   "cell_type": "code",
   "execution_count": 13,
   "id": "e5236335",
   "metadata": {},
   "outputs": [],
   "source": [
    "handle_followers = []\n",
    "pulls = 0\n",
    "max_pulls = 100\n",
    "next_token = None\n",
    "\n",
    "while True :\n",
    "\n",
    "    followers = client.get_users_followers(\n",
    "        user_obj.data.id, \n",
    "        max_results=25, # when you do this for real, set this to 1000!\n",
    "        pagination_token = next_token,\n",
    "        user_fields=[\"created_at\",\"description\",\"location\",\n",
    "                     \"entities\",\"name\",\"pinned_tweet_id\",\"profile_image_url\",\n",
    "                     \"verified\",\"public_metrics\"]\n",
    "    )\n",
    "    pulls += 1\n",
    "    \n",
    "    for follower in followers.data : \n",
    "        follower_row = (follower.id,follower.name,follower.created_at,follower.description)\n",
    "        handle_followers.append(follower_row)\n",
    "    \n",
    "    if 'next_token' in followers.meta and pulls < max_pulls :\n",
    "        next_token = followers.meta['next_token']\n",
    "    else : \n",
    "        break\n",
    "        \n",
    "\n"
   ]
  },
  {
   "cell_type": "markdown",
   "id": "9f3ec0e5",
   "metadata": {},
   "source": [
    "## Pulling Twitter Data for Your Artists\n",
    "\n",
    "Now let's take a look at your artists and see how long it is going to take to pull all their followers. "
   ]
  },
  {
   "cell_type": "code",
   "execution_count": 14,
   "id": "6b37383c",
   "metadata": {},
   "outputs": [
    {
     "name": "stdout",
     "output_type": "stream",
     "text": [
      "It would take 24.61 hours to pull all 1476574 followers for MCRofficial. \n",
      "It would take 117.18 hours to pull all 7030671 followers for MissyElliott. \n"
     ]
    }
   ],
   "source": [
    "artists = dict()\n",
    "\n",
    "# this is a for loop to cycle through both MCR and Missy Elliot's twitter handles\n",
    "for handle in ['MCRofficial','MissyElliott'] : \n",
    "    # client.get_user will get info about the handles\n",
    "    # in this case, we're indicating the username to be the handles specified\n",
    "    # the fields we'll retrieve will be info in public_metrics\n",
    "    user_obj = client.get_user(username=handle,user_fields=[\"public_metrics\"])\n",
    "    # this specifies for an artist with a specific handle to generate their id, handle, and follower count\n",
    "    artists[handle] = (user_obj.data.id, \n",
    "                       handle,\n",
    "                       user_obj.data.public_metrics['followers_count'])\n",
    "    \n",
    "# this generates a print statement using info from artists\n",
    "for artist, data in artists.items() : \n",
    "    print(f\"It would take {data[2]/(1000*15*4):.2f} hours to pull all {data[2]} followers for {artist}. \")\n",
    "    "
   ]
  },
  {
   "cell_type": "markdown",
   "id": "dc6ed3f9",
   "metadata": {},
   "source": [
    "Depending on what you see in the display above, you may want to limit how many followers you pull. It'd be great to get at least 200,000 per artist. \n",
    "\n",
    "As we pull data for each artist we will write their data to a folder called \"twitter\", so we will make that folder if needed."
   ]
  },
  {
   "cell_type": "code",
   "execution_count": 15,
   "id": "e3a32641",
   "metadata": {},
   "outputs": [],
   "source": [
    "# Make the \"twitter\" folder here. If you'd like to practice your programming, add functionality \n",
    "# that checks to see if the folder exists. If it does, then \"unlink\" it. Then create a new one.\n",
    "\n",
    "if not os.path.isdir(\"twitter\") : \n",
    "    #shutil.rmtree(\"twitter/\")\n",
    "    os.mkdir(\"twitter\")"
   ]
  },
  {
   "cell_type": "markdown",
   "id": "dd58dd90",
   "metadata": {},
   "source": [
    "In this following cells, build on the above code to pull some of the followers and their data for your two artists. As you pull the data, write the follower ids to a file called `[artist name]_followers.txt` in the \"twitter\" folder. For instance, for Cher I would create a file named `cher_followers.txt`. As you pull the data, also store it in an object like a list or a data frame.\n",
    "\n",
    "In addition to creating a file that only has follower IDs in it, you will create a file that includes user data. From the response object please extract and store the following fields: \n",
    "\n",
    "* screen_name\t\n",
    "* name\t\n",
    "* id\t\n",
    "* location\t\n",
    "* followers_count\t\n",
    "* friends_count\t\n",
    "* description\n",
    "\n",
    "Store the fields with one user per row in a tab-delimited text file with the name `[artist name]_follower_data.txt`. For instance, for Cher I would create a file named `cher_follower_data.txt`. \n",
    "\n",
    "One note: the user's description can have tabs or returns in it, so make sure to clean those out of the description before writing them to the file. I've included some example code to do that below the stub. "
   ]
  },
  {
   "cell_type": "markdown",
   "id": "4df5671e",
   "metadata": {},
   "source": [
    "### Artist 1: My Chemical Romance (@MCRofficial)"
   ]
  },
  {
   "cell_type": "code",
   "execution_count": 16,
   "id": "3d1a1a65",
   "metadata": {},
   "outputs": [
    {
     "name": "stdout",
     "output_type": "stream",
     "text": [
      "Pulling followers for MCRofficial.\n",
      "{'result_count': 1000, 'next_token': 'P2HJJPCTQ0P1GZZZ'}\n",
      "{'result_count': 1000, 'next_token': 'MSV1DMPMTGOHGZZZ', 'previous_token': 'QN4F11SS5V6UEZZZ'}\n",
      "{'result_count': 1000, 'next_token': 'G3962HEPB0OHGZZZ', 'previous_token': 'GM63TGVE2F7EEZZZ'}\n",
      "{'result_count': 1000, 'next_token': 'TBVKGJB6QGO1GZZZ', 'previous_token': 'T8LBNSHKKV7EEZZZ'}\n",
      "{'result_count': 1000, 'next_token': 'R1VFGLUUDKO1GZZZ', 'previous_token': '3JQRDH585F7UEZZZ'}\n"
     ]
    },
    {
     "name": "stderr",
     "output_type": "stream",
     "text": [
      "Rate limit exceeded. Sleeping for 896 seconds.\n"
     ]
    },
    {
     "name": "stdout",
     "output_type": "stream",
     "text": [
      "{'result_count': 1000, 'next_token': '6ARJUS71OCNHGZZZ', 'previous_token': '9S4E8MP3IB7UEZZZ'}\n",
      "{'result_count': 1000, 'next_token': 'MS4RO0P11SNHGZZZ', 'previous_token': 'JHE80TQR7J8EEZZZ'}\n",
      "{'result_count': 1000, 'next_token': 'E7G3LNG9BCN1GZZZ', 'previous_token': 'NPO9DB72U38EEZZZ'}\n",
      "{'result_count': 1000, 'next_token': 'C0BF0G5LMKMHGZZZ', 'previous_token': 'OBD25OGNKN8UEZZZ'}\n",
      "{'result_count': 1000, 'next_token': 'AIMRQ79O04MHGZZZ', 'previous_token': '36QHFR349B9EEZZZ'}\n",
      "{'result_count': 1000, 'next_token': '3USB01FUGOM1GZZZ', 'previous_token': 'T3JH9JO1VV9EEZZZ'}\n",
      "{'result_count': 1000, 'next_token': '5G4S0A7V08M1GZZZ', 'previous_token': '0JC1HT8LF79UEZZZ'}\n",
      "{'result_count': 1000, 'next_token': '8U6FHEHA7CLHGZZZ', 'previous_token': 'E5FPB8R0VN9UEZZZ'}\n",
      "{'result_count': 1000, 'next_token': '2LL9NQ4S50L1GZZZ', 'previous_token': 'UTOV6PU1ONAEEZZZ'}\n",
      "{'result_count': 1000, 'next_token': 'HGBQJBEGNCK1GZZZ', 'previous_token': 'PHL0BFT4QVAUEZZZ'}\n",
      "{'result_count': 1000, 'next_token': 'RRI7VN9CLGJHGZZZ', 'previous_token': 'E61N7JIO8JBUEZZZ'}\n",
      "{'result_count': 1000, 'next_token': 'TRR2F5EPB4J1GZZZ', 'previous_token': '6AEBM6T5AJCEEZZZ'}\n",
      "{'result_count': 1000, 'next_token': 'EA6VSTOOU8I1GZZZ', 'previous_token': 'TESTPCI8KRCUEZZZ'}\n",
      "{'result_count': 1000, 'next_token': '5M4D8T52O4HHGZZZ', 'previous_token': '4SHOOH0H1RDUEZZZ'}\n",
      "{'result_count': 1000, 'next_token': 'JUFM3B59NKH1GZZZ', 'previous_token': '5T0FT8J27REEEZZZ'}\n"
     ]
    },
    {
     "name": "stderr",
     "output_type": "stream",
     "text": [
      "Rate limit exceeded. Sleeping for 893 seconds.\n"
     ]
    },
    {
     "name": "stdout",
     "output_type": "stream",
     "text": [
      "{'result_count': 1000, 'next_token': 'NPHU8PSDJKGHGZZZ', 'previous_token': '17034DIN8BEUEZZZ'}\n",
      "{'result_count': 1000, 'next_token': 'B98V5QRBIKG1GZZZ', 'previous_token': '4OO1PAK4CBFEEZZZ'}\n",
      "{'result_count': 1000, 'next_token': 'NE5VR6IGI8FHGZZZ', 'previous_token': 'QVG8JIKQDBFUEZZZ'}\n",
      "{'result_count': 1000, 'next_token': 'AMJA0TROE4F1GZZZ', 'previous_token': 'CMURN5F3DNGEEZZZ'}\n",
      "{'result_count': 1000, 'next_token': 'VG61LG827CEHGZZZ', 'previous_token': 'MSSDI4LEHVGUEZZZ'}\n",
      "{'result_count': 1000, 'next_token': '52M6BCBAT4DHGZZZ', 'previous_token': 'TP98918CONHEEZZZ'}\n",
      "{'result_count': 1000, 'next_token': 'IKU6ULFBNGD1GZZZ', 'previous_token': '248S8TSL2RIEEZZZ'}\n",
      "{'result_count': 1000, 'next_token': '1KBG51CQN0CHGZZZ', 'previous_token': 'KO8LP9958FIUEZZZ'}\n",
      "{'result_count': 1000, 'next_token': 'FH366QF7JKC1GZZZ', 'previous_token': '15NBUBDE8VJEEZZZ'}\n",
      "{'result_count': 999, 'next_token': 'OHDRMQQHHKBHGZZZ', 'previous_token': 'J7SMR4D5CBJUEZZZ'}\n",
      "{'result_count': 1000, 'next_token': 'KUH3I125DKB1GZZZ', 'previous_token': 'B6FG2CAAEFKEEZZZ'}\n",
      "{'result_count': 1000, 'next_token': 'BK4IHQO2K4AHGZZZ', 'previous_token': '6DIT21AGIFKUEZZZ'}\n",
      "{'result_count': 1000, 'next_token': '3IVEQVAO0KAHGZZZ', 'previous_token': 'VC9PN9G1BVLEEZZZ'}\n",
      "{'result_count': 1000, 'next_token': 'U6NCAJF9JKA1GZZZ', 'previous_token': 'MUN7NSLGVBLEEZZZ'}\n",
      "{'result_count': 1000, 'next_token': '5OKPG2HBRG9HGZZZ', 'previous_token': 'CNEFBIIOCBLUEZZZ'}\n"
     ]
    },
    {
     "name": "stderr",
     "output_type": "stream",
     "text": [
      "Rate limit exceeded. Sleeping for 892 seconds.\n"
     ]
    },
    {
     "name": "stdout",
     "output_type": "stream",
     "text": [
      "{'result_count': 1000, 'next_token': 'DFRB53BC849HGZZZ', 'previous_token': 'A3I3LBOQ4JMEEZZZ'}\n",
      "{'result_count': 1000, 'next_token': 'BGSIT21EGG91GZZZ', 'previous_token': 'ACBG4E6TNRMEEZZZ'}\n",
      "{'result_count': 1000, 'next_token': 'PUC94CNLV48HGZZZ', 'previous_token': 'SLTOKMPCFNMUEZZZ'}\n",
      "{'result_count': 1000, 'next_token': 'A3G8LUNPFK8HGZZZ', 'previous_token': 'PE8GLNOH0RNEEZZZ'}\n",
      "{'result_count': 1000, 'next_token': '1FA4FR13U481GZZZ', 'previous_token': 'T8O8JMG7GBNEEZZZ'}\n",
      "{'result_count': 1000, 'next_token': 'BBUGC5P0DK81GZZZ', 'previous_token': '1NGHFLQL1VNUEZZZ'}\n",
      "{'result_count': 1000, 'next_token': 'MME811PQ3S81GZZZ', 'previous_token': '0QJ7GP7FIBNUEZZZ'}\n",
      "{'result_count': 1000, 'next_token': '5GMNIFVJN07HGZZZ', 'previous_token': '0EDG5HM9S3NUEZZZ'}\n",
      "{'result_count': 1000, 'next_token': 'J7IHNCA8B07HGZZZ', 'previous_token': 'PBEDEB8P8VOEEZZZ'}\n",
      "{'result_count': 1000, 'next_token': 'QUBOTR6U3C7HGZZZ', 'previous_token': 'SF1QRSECKVOEEZZZ'}\n",
      "{'result_count': 1000, 'next_token': '2FFHML5NLC71GZZZ', 'previous_token': '6M8SU2H3SJOEEZZZ'}\n",
      "{'result_count': 1000, 'next_token': 'D4RHLSGM4K71GZZZ', 'previous_token': 'AG95DM34AJOUEZZZ'}\n",
      "{'result_count': 1000, 'next_token': '12B85NOEKK6HGZZZ', 'previous_token': '08CG6M02RFOUEZZZ'}\n",
      "{'result_count': 1000, 'next_token': 'HK19BEHB6K6HGZZZ', 'previous_token': '71NNRI8BBFPEEZZZ'}\n",
      "{'result_count': 1000, 'next_token': 'OA19CQ4MTK61GZZZ', 'previous_token': 'OHIKV5ELPBPEEZZZ'}\n"
     ]
    },
    {
     "name": "stderr",
     "output_type": "stream",
     "text": [
      "Rate limit exceeded. Sleeping for 892 seconds.\n"
     ]
    },
    {
     "name": "stdout",
     "output_type": "stream",
     "text": [
      "{'result_count': 1000, 'next_token': 'I9946P1KKO61GZZZ', 'previous_token': 'OTHE5E3B2BPUEZZZ'}\n",
      "{'result_count': 1000, 'next_token': 'KJQKD55JAC61GZZZ', 'previous_token': 'C209TBFMB7PUEZZZ'}\n",
      "{'result_count': 1000, 'next_token': '2TV8UAVR5C61GZZZ', 'previous_token': 'PMRQ9EARLJPUEZZZ'}\n",
      "{'result_count': 1000, 'next_token': 'VDIQ3NDH0O61GZZZ', 'previous_token': 'FPGN2BGJQJPUEZZZ'}\n",
      "{'result_count': 1000, 'next_token': 'CJ1AURTCUG5HGZZZ', 'previous_token': 'USRS4GAMV7PUEZZZ'}\n",
      "{'result_count': 1000, 'next_token': '9I4HAMABT05HGZZZ', 'previous_token': 'PMKE80QV1FQEEZZZ'}\n",
      "{'result_count': 1000, 'next_token': '63J1GDDGRO5HGZZZ', 'previous_token': '0N2VOVTT2VQEEZZZ'}\n",
      "{'result_count': 1000, 'next_token': 'TU4FRQ82QS5HGZZZ', 'previous_token': '7B48LS2G47QEEZZZ'}\n",
      "{'result_count': 1000, 'next_token': '5LHKACOIPO5HGZZZ', 'previous_token': '5QS3UNVU53QEEZZZ'}\n",
      "{'result_count': 1000, 'next_token': '8GBNTN0COG5HGZZZ', 'previous_token': 'V6GP30VJ67QEEZZZ'}\n",
      "{'result_count': 1000, 'next_token': 'JM22G54NNK5HGZZZ', 'previous_token': 'R6SOE17K7FQEEZZZ'}\n",
      "{'result_count': 1000, 'next_token': 'HCU5R3E5N05HGZZZ', 'previous_token': 'MIKNM0BA8BQEEZZZ'}\n",
      "{'result_count': 1000, 'next_token': '1OU6IO0KMK5HGZZZ', 'previous_token': 'S0S54U9R8VQEEZZZ'}\n",
      "{'result_count': 1000, 'next_token': '45RPGTO1M85HGZZZ', 'previous_token': 'C66TF77D9BQEEZZZ'}\n",
      "{'result_count': 1000, 'next_token': 'N1G94N4DLS5HGZZZ', 'previous_token': 'G9D4OBVV9NQEEZZZ'}\n"
     ]
    },
    {
     "name": "stderr",
     "output_type": "stream",
     "text": [
      "Rate limit exceeded. Sleeping for 892 seconds.\n"
     ]
    },
    {
     "name": "stdout",
     "output_type": "stream",
     "text": [
      "{'result_count': 1000, 'next_token': '3KLAPAJNLK5HGZZZ', 'previous_token': 'HKC9NGJIA3QEEZZZ'}\n",
      "{'result_count': 1000, 'next_token': 'QMS3I25MLC5HGZZZ', 'previous_token': '08HM2E49ABQEEZZZ'}\n",
      "{'result_count': 1000, 'next_token': '8KKC76INL85HGZZZ', 'previous_token': '6260FVQAAJQEEZZZ'}\n",
      "{'result_count': 1000, 'next_token': '835CN3PCL45HGZZZ', 'previous_token': 'C1RJN7L8ANQEEZZZ'}\n",
      "{'result_count': 1000, 'next_token': 'TKHIRI1DL05HGZZZ', 'previous_token': '3HCUTREJARQEEZZZ'}\n",
      "{'result_count': 1000, 'next_token': 'GBOIK8HDKS5HGZZZ', 'previous_token': 'MKA58GEIAVQEEZZZ'}\n",
      "{'result_count': 1000, 'next_token': 'I99R1U1BKO5HGZZZ', 'previous_token': '3VOERTMIB3QEEZZZ'}\n",
      "{'result_count': 1000, 'next_token': 'CK5IT08AKK5HGZZZ', 'previous_token': 'NBIFK56KB7QEEZZZ'}\n",
      "{'result_count': 1000, 'next_token': 'DPTTULTRIG51GZZZ', 'previous_token': 'TIVRQ57MBBQEEZZZ'}\n",
      "{'result_count': 1000, 'next_token': '0ESRTER53G4HGZZZ', 'previous_token': '55UNULADDJQUEZZZ'}\n",
      "{'result_count': 999, 'next_token': 'OHLBU3B9IO3HGZZZ', 'previous_token': 'HAJRG5T8SFREEZZZ'}\n",
      "{'result_count': 1000, 'next_token': 'NPJEUAPU8031GZZZ', 'previous_token': 'FBQGB67RDBSEEZZZ'}\n",
      "{'result_count': 1000, 'next_token': 'HDIUESOBFC21GZZZ', 'previous_token': '0CQ1B5N6NVSUEZZZ'}\n",
      "{'result_count': 1000, 'next_token': 'KOGR4DB5K811GZZZ', 'previous_token': 'H3MPROVUGJTUEZZZ'}\n",
      "{'result_count': 1000, 'next_token': '1JAIPS7S0G0HGZZZ', 'previous_token': 'T77QOCV3BNUUEZZZ'}\n"
     ]
    },
    {
     "name": "stderr",
     "output_type": "stream",
     "text": [
      "Rate limit exceeded. Sleeping for 893 seconds.\n"
     ]
    },
    {
     "name": "stdout",
     "output_type": "stream",
     "text": [
      "{'result_count': 1000, 'next_token': '3DP7D6POCFVHEZZZ', 'previous_token': '9I7TGBQ4VFVEEZZZ'}\n",
      "{'result_count': 1000, 'next_token': 'CCL2GQTQ3NV1EZZZ', 'previous_token': 'TC04L2AFJK0EGZZZ'}\n",
      "{'result_count': 1000, 'next_token': 'F6N4235VFRUHEZZZ', 'previous_token': '3KV6J2AMS80UGZZZ'}\n",
      "{'result_count': 1000, 'next_token': 'TNPK7Q88C3U1EZZZ', 'previous_token': 'E58A50A6G41EGZZZ'}\n",
      "{'result_count': 1000, 'next_token': 'KJ4K6SI63FTHEZZZ', 'previous_token': 'BEO4GSIIK01UGZZZ'}\n",
      "{'result_count': 1000, 'next_token': 'LU246MT2P3SHEZZZ', 'previous_token': '6D9F906MSG2EGZZZ'}\n",
      "{'result_count': 1000, 'next_token': '06LCSJUU6JSHEZZZ', 'previous_token': '3H0MK5HF703EGZZZ'}\n",
      "{'result_count': 1000, 'next_token': 'QOAP0KJNAVS1EZZZ', 'previous_token': '4E1PQ4PAPC3EGZZZ'}\n",
      "{'result_count': 999, 'next_token': '10SM514S9VRHEZZZ', 'previous_token': 'ERKBCSDBL03UGZZZ'}\n",
      "{'result_count': 1000, 'next_token': '00FINF74T7R1EZZZ', 'previous_token': 'FUTPHP5LM04EGZZZ'}\n",
      "{'result_count': 1000, 'next_token': 'QV5E7K4C5NQHEZZZ', 'previous_token': '3FTNULID2O4UGZZZ'}\n",
      "{'result_count': 999, 'next_token': 'V44NKE56ENPHEZZZ', 'previous_token': 'BKPDFU6NQ85EGZZZ'}\n",
      "{'result_count': 1000, 'next_token': 'N983N5HRTFOHEZZZ', 'previous_token': 'B1C2C4M4H86EGZZZ'}\n",
      "{'result_count': 1000, 'next_token': '6MTT711D4NO1EZZZ', 'previous_token': '2SIGJMMH2G7EGZZZ'}\n",
      "{'result_count': 1000, 'next_token': 'GFQGNRBD9RN1EZZZ', 'previous_token': 'AJFBH8JARG7UGZZZ'}\n"
     ]
    },
    {
     "name": "stderr",
     "output_type": "stream",
     "text": [
      "Rate limit exceeded. Sleeping for 892 seconds.\n"
     ]
    },
    {
     "name": "stdout",
     "output_type": "stream",
     "text": [
      "{'result_count': 1000, 'next_token': 'EGJKDQOHKJM1EZZZ', 'previous_token': '4QBSHO4MM48UGZZZ'}\n",
      "{'result_count': 1000, 'next_token': 'TNTCB2A017LHEZZZ', 'previous_token': '9M7QT1RRBG9UGZZZ'}\n",
      "{'result_count': 1000, 'next_token': 'V3MCB22CDBKHEZZZ', 'previous_token': '34NI3IV7UOAEGZZZ'}\n",
      "{'result_count': 1000, 'next_token': 'TCK08SRO23K1EZZZ', 'previous_token': '68PRLVOOIOBEGZZZ'}\n",
      "{'result_count': 1000, 'next_token': 'J79B4SKIC7JHEZZZ', 'previous_token': '9FR5AOMGTSBUGZZZ'}\n",
      "Completed pulling follower data for MCRofficial.\n",
      "Time taken was 1:45:43.055334.\n"
     ]
    }
   ],
   "source": [
    "# note the artists' twitter handles\n",
    "handles = ['MCRofficial']\n",
    "handle_followers = []\n",
    "\n",
    "whitespace_pattern = re.compile(r\"\\s+\")\n",
    "\n",
    "user_data = dict() \n",
    "followers_data = dict()\n",
    "\n",
    "for handle in handles :\n",
    "    user_obj = client.get_user(username=handle) # this will specify the handles\n",
    "    user_data[handle] = [] # will be a list of lists\n",
    "    followers_data[handle] = [] # will be a simple list of IDs\n",
    "\n",
    "\n",
    "# Grabs the time when we start making requests to the API\n",
    "start_time = datetime.datetime.now()\n",
    "\n",
    "for handle in handles :\n",
    "    \n",
    "    # Create the output file names \n",
    "    \n",
    "    followers_output_file = handle + \"_followers.txt\"\n",
    "    user_data_output_file = handle + \"_follower_data.txt\"\n",
    "    \n",
    "    # this produces a print statement indicating artist\n",
    "    print(f'Pulling followers for {handle}.')\n",
    "    \n",
    "    # Using tweepy.Paginator (https://docs.tweepy.org/en/latest/v2_pagination.html), \n",
    "    # use `get_users_followers` to pull the follower data requested. \n",
    "    \n",
    "    for followers in tweepy.Paginator(client.get_users_followers,\n",
    "            user_obj.data.id,\n",
    "            user_fields=[\"username\",\"name\",\"id\",\"location\",\"public_metrics\",\"description\"],\n",
    "            max_results=1000,\n",
    "            limit=100):\n",
    "        print(followers.meta)\n",
    "        \n",
    "        for follower in followers.data:\n",
    "            follower_row = {'id': follower.id,\n",
    "                            'username': follower.username,\n",
    "                            'name': follower.name,\n",
    "                            'location': follower.location,\n",
    "                            'follower_count': follower.public_metrics['followers_count'],\n",
    "                            'following': follower.public_metrics['following_count'],\n",
    "                            'description': follower.description\n",
    "                           }\n",
    "            user_data[handle].append(follower_row) # this appends all follower data\n",
    "            followers_data[handle].append(follower.id) # this appends only follower ids\n",
    "            \n",
    "    # For each response object, extract the needed fields and store them in a dictionary or\n",
    "    # data frame. \n",
    "    users_output_MCR = pd.DataFrame(user_data[handle], columns=['id','username',\n",
    "                                                               'name', 'location',\n",
    "                                                               'follower_count', 'following',\n",
    "                                                               'description'])\n",
    "    followers_output_MCR = pd.DataFrame(user_data[handle], columns=['id'])\n",
    "    \n",
    "    users_output_MCR.to_csv(f'twitter/{handle}_followers.txt', sep='\\t', index=False)\n",
    "    followers_output_MCR.to_csv(f'twitter/{handle}_follower_data.txt', sep='\\t', index=False)\n",
    "    \n",
    "    # with help from Martin Zagari via slack, inserting planned sleep to help with rate limit        \n",
    "    time.sleep(25+(10*random.random()))\n",
    "            \n",
    "    print(f'Completed pulling follower data for {handle}.')\n",
    "        \n",
    "# Let's see how long it took to grab all follower IDs\n",
    "end_time = datetime.datetime.now()\n",
    "print(f'Time taken was {end_time - start_time}.')\n"
   ]
  },
  {
   "cell_type": "code",
   "execution_count": 17,
   "id": "513f4e1d",
   "metadata": {},
   "outputs": [
    {
     "data": {
      "text/html": [
       "<div>\n",
       "<style scoped>\n",
       "    .dataframe tbody tr th:only-of-type {\n",
       "        vertical-align: middle;\n",
       "    }\n",
       "\n",
       "    .dataframe tbody tr th {\n",
       "        vertical-align: top;\n",
       "    }\n",
       "\n",
       "    .dataframe thead th {\n",
       "        text-align: right;\n",
       "    }\n",
       "</style>\n",
       "<table border=\"1\" class=\"dataframe\">\n",
       "  <thead>\n",
       "    <tr style=\"text-align: right;\">\n",
       "      <th></th>\n",
       "      <th>id</th>\n",
       "      <th>username</th>\n",
       "      <th>name</th>\n",
       "      <th>location</th>\n",
       "      <th>follower_count</th>\n",
       "      <th>following</th>\n",
       "      <th>description</th>\n",
       "    </tr>\n",
       "  </thead>\n",
       "  <tbody>\n",
       "    <tr>\n",
       "      <th>0</th>\n",
       "      <td>1470235406348263425</td>\n",
       "      <td>chemiclly101</td>\n",
       "      <td>kai</td>\n",
       "      <td>None</td>\n",
       "      <td>0</td>\n",
       "      <td>66</td>\n",
       "      <td>i repost not so appropriate stuff a lot 🔞</td>\n",
       "    </tr>\n",
       "    <tr>\n",
       "      <th>1</th>\n",
       "      <td>1090096418826715136</td>\n",
       "      <td>debbiecola</td>\n",
       "      <td>debbiecola</td>\n",
       "      <td>None</td>\n",
       "      <td>0</td>\n",
       "      <td>12</td>\n",
       "      <td></td>\n",
       "    </tr>\n",
       "    <tr>\n",
       "      <th>2</th>\n",
       "      <td>1562612060013268993</td>\n",
       "      <td>AshtonJaxx03</td>\n",
       "      <td>Ashton Jaxx Barnes</td>\n",
       "      <td>None</td>\n",
       "      <td>0</td>\n",
       "      <td>14</td>\n",
       "      <td></td>\n",
       "    </tr>\n",
       "    <tr>\n",
       "      <th>3</th>\n",
       "      <td>1340336528355110912</td>\n",
       "      <td>yukuakiii</td>\n",
       "      <td>shutthefup</td>\n",
       "      <td>in gerard way</td>\n",
       "      <td>0</td>\n",
       "      <td>44</td>\n",
       "      <td>xia // xntj 4w5 sx/sp 487 // live laugh gerard...</td>\n",
       "    </tr>\n",
       "    <tr>\n",
       "      <th>4</th>\n",
       "      <td>1177133255881035782</td>\n",
       "      <td>LenaBaumgardt</td>\n",
       "      <td>Lena</td>\n",
       "      <td>Germany</td>\n",
       "      <td>1</td>\n",
       "      <td>104</td>\n",
       "      <td>~ When things get hard, stop for awhile and lo...</td>\n",
       "    </tr>\n",
       "  </tbody>\n",
       "</table>\n",
       "</div>"
      ],
      "text/plain": [
       "                    id       username                name       location  \\\n",
       "0  1470235406348263425   chemiclly101                 kai           None   \n",
       "1  1090096418826715136     debbiecola          debbiecola           None   \n",
       "2  1562612060013268993   AshtonJaxx03  Ashton Jaxx Barnes           None   \n",
       "3  1340336528355110912      yukuakiii          shutthefup  in gerard way   \n",
       "4  1177133255881035782  LenaBaumgardt                Lena        Germany   \n",
       "\n",
       "   follower_count  following  \\\n",
       "0               0         66   \n",
       "1               0         12   \n",
       "2               0         14   \n",
       "3               0         44   \n",
       "4               1        104   \n",
       "\n",
       "                                         description  \n",
       "0          i repost not so appropriate stuff a lot 🔞  \n",
       "1                                                     \n",
       "2                                                     \n",
       "3  xia // xntj 4w5 sx/sp 487 // live laugh gerard...  \n",
       "4  ~ When things get hard, stop for awhile and lo...  "
      ]
     },
     "execution_count": 17,
     "metadata": {},
     "output_type": "execute_result"
    }
   ],
   "source": [
    "# checking dataframes to ensure proper data pull\n",
    "users_output_MCR.head()"
   ]
  },
  {
   "cell_type": "markdown",
   "id": "84121845",
   "metadata": {},
   "source": [
    "### Artist 2: Missy Elliott @MissyElliott"
   ]
  },
  {
   "cell_type": "code",
   "execution_count": 18,
   "id": "d5ee67d5",
   "metadata": {},
   "outputs": [
    {
     "name": "stdout",
     "output_type": "stream",
     "text": [
      "Pulling followers for MissyElliott.\n",
      "{'result_count': 1000, 'next_token': 'V7EQRGNJ9KPHGZZZ'}\n",
      "{'result_count': 1000, 'next_token': 'O8UAJQ98TCP1GZZZ', 'previous_token': 'L7MP2V0PMB6EEZZZ'}\n",
      "{'result_count': 1000, 'next_token': 'I4P3N1A7FSP1GZZZ', 'previous_token': 'OM2RVS7B2J6UEZZZ'}\n",
      "{'result_count': 1000, 'next_token': 'O5IID5D620P1GZZZ', 'previous_token': '078PPMLSG36UEZZZ'}\n",
      "{'result_count': 1000, 'next_token': 'AOTF2FNQP0OHGZZZ', 'previous_token': 'F0R9CK45TV6UEZZZ'}\n",
      "{'result_count': 1000, 'next_token': 'AL2JUJUJBGOHGZZZ', 'previous_token': '2OBFU3OS6V7EEZZZ'}\n",
      "{'result_count': 1000, 'next_token': 'UU6R7KDESKO1GZZZ', 'previous_token': '5TLS9EHQKF7EEZZZ'}\n",
      "{'result_count': 1000, 'next_token': 'CL2HE0UBH4O1GZZZ', 'previous_token': 'P2QN2S2Q3B7UEZZZ'}\n",
      "{'result_count': 1000, 'next_token': 'QRU57BFI2SO1GZZZ', 'previous_token': '681GGFPPER7UEZZZ'}\n",
      "{'result_count': 1000, 'next_token': '2K2GDA14KONHGZZZ', 'previous_token': 'IQNCKI9KT37UEZZZ'}\n"
     ]
    },
    {
     "name": "stderr",
     "output_type": "stream",
     "text": [
      "Rate limit exceeded. Sleeping for 857 seconds.\n"
     ]
    },
    {
     "name": "stdout",
     "output_type": "stream",
     "text": [
      "{'result_count': 1000, 'next_token': '89NG2PVVAONHGZZZ', 'previous_token': '9AITJMO0BB8EEZZZ'}\n",
      "{'result_count': 1000, 'next_token': '56DJJFCASSN1GZZZ', 'previous_token': 'SO6TPSO3L78EEZZZ'}\n",
      "{'result_count': 1000, 'next_token': 'TRAPLF1MGKN1GZZZ', 'previous_token': '2D0447KS338UEZZZ'}\n",
      "{'result_count': 1000, 'next_token': 'V14QM7RL88N1GZZZ', 'previous_token': 'CPJ2KH6AFB8UEZZZ'}\n",
      "{'result_count': 1000, 'next_token': 'VERRM89BUGMHGZZZ', 'previous_token': '1OCA49CFNN8UEZZZ'}\n",
      "{'result_count': 1000, 'next_token': 'PEBIF061E8MHGZZZ', 'previous_token': 'I809RR7A1F9EEZZZ'}\n",
      "{'result_count': 998, 'next_token': 'E29BCDC75KMHGZZZ', 'previous_token': '6OFFCC2MHN9EEZZZ'}\n",
      "{'result_count': 1000, 'next_token': 'LHFA31AS1KMHGZZZ', 'previous_token': 'LGSRQHSEQB9EEZZZ'}\n",
      "{'result_count': 999, 'next_token': '31BAL9OUFSM1GZZZ', 'previous_token': '9VNK13D9UB9EEZZZ'}\n",
      "{'result_count': 1000, 'next_token': 'TVK35ULHV0LHGZZZ', 'previous_token': '8CLP71NDG39UEZZZ'}\n",
      "{'result_count': 1000, 'next_token': 'U13DDQPGEKLHGZZZ', 'previous_token': 'G9O96LBU0VAEEZZZ'}\n",
      "{'result_count': 1000, 'next_token': '3OUQVLDV78LHGZZZ', 'previous_token': '3MA0E6V9HBAEEZZZ'}\n",
      "{'result_count': 1000, 'next_token': 'MVJSNI8E38LHGZZZ', 'previous_token': 'I6KD392EONAEEZZZ'}\n",
      "{'result_count': 1000, 'next_token': 'OB6DCF9DHKL1GZZZ', 'previous_token': 'PPVV1GNJSNAEEZZZ'}\n",
      "{'result_count': 1000, 'next_token': '0NE5N7CDUKKHGZZZ', 'previous_token': '226G2K6TEBAUEZZZ'}\n"
     ]
    },
    {
     "name": "stderr",
     "output_type": "stream",
     "text": [
      "Rate limit exceeded. Sleeping for 892 seconds.\n"
     ]
    },
    {
     "name": "stdout",
     "output_type": "stream",
     "text": [
      "{'result_count': 999, 'next_token': 'FB3R7H0GI8KHGZZZ', 'previous_token': 'TOE64FC81BBEEZZZ'}\n",
      "{'result_count': 1000, 'next_token': 'I2GJLK9BSGK1GZZZ', 'previous_token': '5IHBKUNHDNBEEZZZ'}\n",
      "{'result_count': 1000, 'next_token': 'LL9CU1PUBGK1GZZZ', 'previous_token': 'LDDVNDMN3FBUEZZZ'}\n",
      "{'result_count': 1000, 'next_token': 'HAAQ27K5USJHGZZZ', 'previous_token': 'UCTJV4ENKFBUEZZZ'}\n",
      "{'result_count': 999, 'next_token': '0HU8053QGOJHGZZZ', 'previous_token': 'DT0A82L613CEEZZZ'}\n",
      "{'result_count': 1000, 'next_token': 'DFJJPR2ER4J1GZZZ', 'previous_token': 'O0GTRU6IF7CEEZZZ'}\n",
      "{'result_count': 1000, 'next_token': 'OUBAMSSQ74J1GZZZ', 'previous_token': '2T0KCJ004VCUEZZZ'}\n",
      "{'result_count': 1000, 'next_token': '5CMOS07HL8IHGZZZ', 'previous_token': '0J7A7LU3ORCUEZZZ'}\n",
      "{'result_count': 1000, 'next_token': 'MFUTHJA9VKI1GZZZ', 'previous_token': 'G8DN82P1ANDEEZZZ'}\n",
      "{'result_count': 999, 'next_token': 'HLLL9FTGF8I1GZZZ', 'previous_token': '91VE5SLP0BDUEZZZ'}\n",
      "{'result_count': 1000, 'next_token': 'RAKQER1HS0HHGZZZ', 'previous_token': 'C88R5FR4GNDUEZZZ'}\n",
      "{'result_count': 1000, 'next_token': '5RTKB3LFDOHHGZZZ', 'previous_token': '6RF2MQEN3VEEEZZZ'}\n",
      "{'result_count': 1000, 'next_token': 'CD5RPE01OSH1GZZZ', 'previous_token': '7DCRHFR0I7EEEZZZ'}\n",
      "{'result_count': 1000, 'next_token': 'P0LPSE984SH1GZZZ', 'previous_token': 'RJG73M8R77EUEZZZ'}\n",
      "{'result_count': 1000, 'next_token': '8RARQRSPHOGHGZZZ', 'previous_token': '4CJCRT7IR3EUEZZZ'}\n"
     ]
    },
    {
     "name": "stderr",
     "output_type": "stream",
     "text": [
      "Rate limit exceeded. Sleeping for 893 seconds.\n"
     ]
    },
    {
     "name": "stdout",
     "output_type": "stream",
     "text": [
      "{'result_count': 1000, 'next_token': 'O49PE1TVT8G1GZZZ', 'previous_token': '28U6SPS4E7FEEZZZ'}\n",
      "{'result_count': 1000, 'next_token': 'VHDSJ09CDSG1GZZZ', 'previous_token': 'UL45QOBL2NFUEZZZ'}\n",
      "{'result_count': 1000, 'next_token': 'IR49254O1CG1GZZZ', 'previous_token': '4GR1UFERI3FUEZZZ'}\n",
      "{'result_count': 1000, 'next_token': 'IEF6K6CTFOFHGZZZ', 'previous_token': 'CNARSPJMUJFUEZZZ'}\n",
      "{'result_count': 1000, 'next_token': '96V4PAMN28FHGZZZ', 'previous_token': 'GKS19G6UG7GEEZZZ'}\n",
      "{'result_count': 1000, 'next_token': '37NPPD7OM4F1GZZZ', 'previous_token': '2V65VE9PTNGEEZZZ'}\n",
      "{'result_count': 1000, 'next_token': 'FASIPE26ACF1GZZZ', 'previous_token': '14K98GH09RGUEZZZ'}\n",
      "{'result_count': 998, 'next_token': 'U4HMSNTHSSEHGZZZ', 'previous_token': '466M58U4LJGUEZZZ'}\n",
      "{'result_count': 1000, 'next_token': 'AOSAVGNJJSEHGZZZ', 'previous_token': 'NGLMH7QM33HEEZZZ'}\n",
      "{'result_count': 1000, 'next_token': '0TNKABK8COEHGZZZ', 'previous_token': 'VJHFEF11C3HEEZZZ'}\n",
      "{'result_count': 1000, 'next_token': 'JNI7H73OUSE1GZZZ', 'previous_token': '7KKUCQ3QJ7HEEZZZ'}\n",
      "{'result_count': 1000, 'next_token': 'JTMS1UIL9KE1GZZZ', 'previous_token': 'LF5IF7KI13HUEZZZ'}\n",
      "{'result_count': 1000, 'next_token': '6RUAD4KFVCDHGZZZ', 'previous_token': '5QGCCIE3MBHUEZZZ'}\n",
      "{'result_count': 1000, 'next_token': 'RR03CD8EOGDHGZZZ', 'previous_token': 'KIB71GRM0JIEEZZZ'}\n",
      "{'result_count': 1000, 'next_token': 'OF8K27T45GDHGZZZ', 'previous_token': '07BSTQ8N7JIEEZZZ'}\n"
     ]
    },
    {
     "name": "stderr",
     "output_type": "stream",
     "text": [
      "Rate limit exceeded. Sleeping for 892 seconds.\n"
     ]
    },
    {
     "name": "stdout",
     "output_type": "stream",
     "text": [
      "{'result_count': 1000, 'next_token': 'JPA0S7D0HSD1GZZZ', 'previous_token': 'OIG0F9QUQFIEEZZZ'}\n",
      "{'result_count': 1000, 'next_token': 'VIJ0PNFKVOCHGZZZ', 'previous_token': 'E6GJQ4JAE3IUEZZZ'}\n",
      "{'result_count': 1000, 'next_token': '9LA2UJ13BCCHGZZZ', 'previous_token': '4R9IM09307JEEZZZ'}\n",
      "{'result_count': 1000, 'next_token': 'OCC19BEDQ4C1GZZZ', 'previous_token': '8E04761QKNJEEZZZ'}\n",
      "{'result_count': 1000, 'next_token': 'PEPCNQTN6GC1GZZZ', 'previous_token': '8DEBC1PL5RJUEZZZ'}\n",
      "{'result_count': 1000, 'next_token': 'LM7R1H71O8BHGZZZ', 'previous_token': 'FDTKI62TPFJUEZZZ'}\n",
      "{'result_count': 1000, 'next_token': 'CT4L89318GBHGZZZ', 'previous_token': 'GEAOTQOU7NKEEZZZ'}\n",
      "{'result_count': 1000, 'next_token': 'DQ7QTR40FCB1GZZZ', 'previous_token': 'S4EELKD3NFKEEZZZ'}\n",
      "{'result_count': 1000, 'next_token': '0J4MF6KEMKAHGZZZ', 'previous_token': 'I6DTTRKPGJKUEZZZ'}\n",
      "{'result_count': 1000, 'next_token': 'CJUVQKPMT0A1GZZZ', 'previous_token': '6CJDP74Q9BLEEZZZ'}\n",
      "{'result_count': 1000, 'next_token': 'EANOU06THCA1GZZZ', 'previous_token': '2RR3JSUD2VLUEZZZ'}\n",
      "{'result_count': 1000, 'next_token': '0BDU83IKBCA1GZZZ', 'previous_token': '9QQMFVA7EJLUEZZZ'}\n",
      "{'result_count': 1000, 'next_token': 'TEHIGCLFTC9HGZZZ', 'previous_token': 'D9LODF5LKJLUEZZZ'}\n",
      "{'result_count': 1000, 'next_token': '6DVK8B8UDC9HGZZZ', 'previous_token': 'F6GRM1AL2JMEEZZZ'}\n",
      "{'result_count': 1000, 'next_token': 'H2AG0M4KM891GZZZ', 'previous_token': 'GVLOEINRIJMEEZZZ'}\n"
     ]
    },
    {
     "name": "stderr",
     "output_type": "stream",
     "text": [
      "Rate limit exceeded. Sleeping for 892 seconds.\n"
     ]
    },
    {
     "name": "stdout",
     "output_type": "stream",
     "text": [
      "{'result_count': 1000, 'next_token': '8CH4HOLO4K91GZZZ', 'previous_token': 'CJ3IP8LO9NMUEZZZ'}\n",
      "{'result_count': 1000, 'next_token': 'D0D3B37MDG8HGZZZ', 'previous_token': '632GU5IHRBMUEZZZ'}\n",
      "{'result_count': 1000, 'next_token': 'MSFRV03MJ481GZZZ', 'previous_token': 'B6BARAH9IFNEEZZZ'}\n",
      "{'result_count': 1000, 'next_token': 'J3UE8NKBUS7HGZZZ', 'previous_token': 'SP8B5UTECRNUEZZZ'}\n",
      "{'result_count': 1000, 'next_token': 'S5VACRQECK7HGZZZ', 'previous_token': 'G3TKG6CO13OEEZZZ'}\n",
      "{'result_count': 1000, 'next_token': 'EE2RJMEGKK71GZZZ', 'previous_token': '7DMSVK7MJBOEEZZZ'}\n",
      "{'result_count': 1000, 'next_token': 'JR0AF60GSG6HGZZZ', 'previous_token': 'RLD81EQNBBOUEZZZ'}\n",
      "{'result_count': 1000, 'next_token': 'MIFBGDUN4C6HGZZZ', 'previous_token': 'R34LSP8O3JPEEZZZ'}\n",
      "{'result_count': 1000, 'next_token': 'SID9SJUCJ061GZZZ', 'previous_token': 'BH8JEDRVRJPEEZZZ'}\n",
      "{'result_count': 1000, 'next_token': '904E6DI62461GZZZ', 'previous_token': 'TG1D5620CVPUEZZZ'}\n",
      "{'result_count': 1000, 'next_token': 'BN2L9B2HCC5HGZZZ', 'previous_token': 'PO9FRQDVTRPUEZZZ'}\n",
      "{'result_count': 1000, 'next_token': 'BPN5P6BGOK51GZZZ', 'previous_token': 'UTSMJQEHJJQEEZZZ'}\n",
      "{'result_count': 1000, 'next_token': 'HNJ6D5Q92051GZZZ', 'previous_token': 'RIGV8ASL7BQUEZZZ'}\n",
      "{'result_count': 1000, 'next_token': '1MR1RHQOIK4HGZZZ', 'previous_token': 'FU3V6GVRTVQUEZZZ'}\n",
      "{'result_count': 1000, 'next_token': '8T6CMEIP7G4HGZZZ', 'previous_token': 'K5H2OIM3DBREEZZZ'}\n"
     ]
    },
    {
     "name": "stderr",
     "output_type": "stream",
     "text": [
      "Rate limit exceeded. Sleeping for 892 seconds.\n"
     ]
    },
    {
     "name": "stdout",
     "output_type": "stream",
     "text": [
      "{'result_count': 1000, 'next_token': 'MDALOLLSN041GZZZ', 'previous_token': 'RVK5F5L7OFREEZZZ'}\n",
      "{'result_count': 1000, 'next_token': 'SM7O4AD83O41GZZZ', 'previous_token': 'L2D2VB2M8VRUEZZZ'}\n",
      "{'result_count': 1000, 'next_token': 'JK5M9K08JK3HGZZZ', 'previous_token': 'UN911KB1S7RUEZZZ'}\n",
      "{'result_count': 1000, 'next_token': '26GG9BNL5O3HGZZZ', 'previous_token': 'C9ENFTAICFSEEZZZ'}\n",
      "{'result_count': 1000, 'next_token': 'NBIA7AJORG31GZZZ', 'previous_token': 'KDPE3HOKQ7SEEZZZ'}\n",
      "{'result_count': 1000, 'next_token': 'I6P9QJE7GG31GZZZ', 'previous_token': 'L95AV4S94FSUEZZZ'}\n",
      "{'result_count': 1000, 'next_token': 'EIRG6KFF5431GZZZ', 'previous_token': 'O04D1B21FFSUEZZZ'}\n",
      "{'result_count': 1000, 'next_token': 'CAV0LJ0FH42HGZZZ', 'previous_token': 'I8P4BA0JQRSUEZZZ'}\n",
      "{'result_count': 1000, 'next_token': '0509CUB54C2HGZZZ', 'previous_token': 'D9RUC7BMEVTEEZZZ'}\n",
      "{'result_count': 1000, 'next_token': 'U59CB7BQOS21GZZZ', 'previous_token': 'PK6BL0M2RJTEEZZZ'}\n",
      "{'result_count': 1000, 'next_token': 'OIVO7OOIH021GZZZ', 'previous_token': 'AR9TE14F73TUEZZZ'}\n",
      "{'result_count': 1000, 'next_token': '9JCGE4DUAS21GZZZ', 'previous_token': '1G3KJRFVEVTUEZZZ'}\n",
      "{'result_count': 1000, 'next_token': 'II1E0SLO3821GZZZ', 'previous_token': 'IBCDA1I4L3TUEZZZ'}\n",
      "{'result_count': 1000, 'next_token': 'TJ83TBFDIS1HGZZZ', 'previous_token': 'H5P2L3R7SNTUEZZZ'}\n",
      "{'result_count': 1000, 'next_token': '8DA01VUL6C1HGZZZ', 'previous_token': 'R8O1KBHSD3UEEZZZ'}\n",
      "Completed pulling follower data for MissyElliott.\n",
      "Time taken was 1:30:09.151676.\n"
     ]
    }
   ],
   "source": [
    "# note the artists' twitter handles\n",
    "handles = ['MissyElliott']\n",
    "handle_followers = []\n",
    "\n",
    "whitespace_pattern = re.compile(r\"\\s+\")\n",
    "\n",
    "user_data = dict() \n",
    "followers_data = dict()\n",
    "\n",
    "for handle in handles :\n",
    "    user_obj = client.get_user(username=handle) # this will specify the handles\n",
    "    user_data[handle] = [] # will be a list of lists\n",
    "    followers_data[handle] = [] # will be a simple list of IDs\n",
    "\n",
    "\n",
    "# Grabs the time when we start making requests to the API\n",
    "start_time = datetime.datetime.now()\n",
    "\n",
    "for handle in handles :\n",
    "    \n",
    "    # Create the output file names \n",
    "    \n",
    "    followers_output_file = handle + \"_followers.txt\"\n",
    "    user_data_output_file = handle + \"_follower_data.txt\"\n",
    "    \n",
    "    # this produces a print statement indicating artist\n",
    "    print(f'Pulling followers for {handle}.')\n",
    "    \n",
    "    # Using tweepy.Paginator (https://docs.tweepy.org/en/latest/v2_pagination.html), \n",
    "    # use `get_users_followers` to pull the follower data requested. \n",
    "    \n",
    "    for followers in tweepy.Paginator(client.get_users_followers,\n",
    "            user_obj.data.id,\n",
    "            user_fields=[\"username\",\"name\",\"id\",\"location\",\"public_metrics\",\"description\"],\n",
    "            max_results=1000,\n",
    "            limit=100):\n",
    "        print(followers.meta)\n",
    "        \n",
    "        for follower in followers.data:\n",
    "            follower_row = {'id': follower.id,\n",
    "                            'username': follower.username,\n",
    "                            'name': follower.name,\n",
    "                            'location': follower.location,\n",
    "                            'follower_count': follower.public_metrics['followers_count'],\n",
    "                            'following': follower.public_metrics['following_count'],\n",
    "                            'description': follower.description\n",
    "                           }\n",
    "            user_data[handle].append(follower_row) # this appends all follower data\n",
    "            followers_data[handle].append(follower.id) # this appends only follower ids\n",
    "            \n",
    "    # For each response object, extract the needed fields and store them in a dictionary or\n",
    "    # data frame. \n",
    "    users_output_missy = pd.DataFrame(user_data[handle], columns=['id','username',\n",
    "                                                               'name', 'location',\n",
    "                                                               'follower_count', 'following',\n",
    "                                                               'description'])\n",
    "    followers_output_missy = pd.DataFrame(user_data[handle], columns=['id'])\n",
    "    \n",
    "    users_output_missy.to_csv(f'twitter/{handle}_followers.txt', sep='\\t', index=False)\n",
    "    followers_output_missy.to_csv(f'twitter/{handle}_follower_data.txt', sep='\\t', index=False)\n",
    "    \n",
    "    # with help from Martin Zagari via slack, inserting planned sleep to help with rate limit        \n",
    "    time.sleep(25+(10*random.random()))\n",
    "            \n",
    "    print(f'Completed pulling follower data for {handle}.')\n",
    "        \n",
    "# Let's see how long it took to grab all follower IDs\n",
    "end_time = datetime.datetime.now()\n",
    "print(f'Time taken was {end_time - start_time}.')\n"
   ]
  },
  {
   "cell_type": "code",
   "execution_count": 19,
   "id": "123ae4cd",
   "metadata": {},
   "outputs": [
    {
     "data": {
      "text/html": [
       "<div>\n",
       "<style scoped>\n",
       "    .dataframe tbody tr th:only-of-type {\n",
       "        vertical-align: middle;\n",
       "    }\n",
       "\n",
       "    .dataframe tbody tr th {\n",
       "        vertical-align: top;\n",
       "    }\n",
       "\n",
       "    .dataframe thead th {\n",
       "        text-align: right;\n",
       "    }\n",
       "</style>\n",
       "<table border=\"1\" class=\"dataframe\">\n",
       "  <thead>\n",
       "    <tr style=\"text-align: right;\">\n",
       "      <th></th>\n",
       "      <th>id</th>\n",
       "      <th>username</th>\n",
       "      <th>name</th>\n",
       "      <th>location</th>\n",
       "      <th>follower_count</th>\n",
       "      <th>following</th>\n",
       "      <th>description</th>\n",
       "    </tr>\n",
       "  </thead>\n",
       "  <tbody>\n",
       "    <tr>\n",
       "      <th>0</th>\n",
       "      <td>1531138365478903808</td>\n",
       "      <td>KevJay20_</td>\n",
       "      <td>Kev Jay</td>\n",
       "      <td>None</td>\n",
       "      <td>0</td>\n",
       "      <td>44</td>\n",
       "      <td></td>\n",
       "    </tr>\n",
       "    <tr>\n",
       "      <th>1</th>\n",
       "      <td>1340011142077423621</td>\n",
       "      <td>NtandokayiseTE1</td>\n",
       "      <td>@TIDO-FIGO</td>\n",
       "      <td>Gauteng , South Africa</td>\n",
       "      <td>688</td>\n",
       "      <td>4670</td>\n",
       "      <td>I left earth🌍🌎🌏🗺️🧭 a while ago🌊...</td>\n",
       "    </tr>\n",
       "    <tr>\n",
       "      <th>2</th>\n",
       "      <td>1569955923426156544</td>\n",
       "      <td>benjamin6_joram</td>\n",
       "      <td>Joram Benjamin</td>\n",
       "      <td>None</td>\n",
       "      <td>1</td>\n",
       "      <td>121</td>\n",
       "      <td></td>\n",
       "    </tr>\n",
       "    <tr>\n",
       "      <th>3</th>\n",
       "      <td>1569962253570523137</td>\n",
       "      <td>Cassandralive50</td>\n",
       "      <td>Cassandra Jackson</td>\n",
       "      <td>None</td>\n",
       "      <td>1</td>\n",
       "      <td>42</td>\n",
       "      <td></td>\n",
       "    </tr>\n",
       "    <tr>\n",
       "      <th>4</th>\n",
       "      <td>1219417315030245377</td>\n",
       "      <td>Geecabin</td>\n",
       "      <td>Gee Jones</td>\n",
       "      <td>None</td>\n",
       "      <td>1</td>\n",
       "      <td>106</td>\n",
       "      <td></td>\n",
       "    </tr>\n",
       "  </tbody>\n",
       "</table>\n",
       "</div>"
      ],
      "text/plain": [
       "                    id         username               name  \\\n",
       "0  1531138365478903808        KevJay20_            Kev Jay   \n",
       "1  1340011142077423621  NtandokayiseTE1         @TIDO-FIGO   \n",
       "2  1569955923426156544  benjamin6_joram     Joram Benjamin   \n",
       "3  1569962253570523137  Cassandralive50  Cassandra Jackson   \n",
       "4  1219417315030245377         Geecabin          Gee Jones   \n",
       "\n",
       "                 location  follower_count  following  \\\n",
       "0                    None               0         44   \n",
       "1  Gauteng , South Africa             688       4670   \n",
       "2                    None               1        121   \n",
       "3                    None               1         42   \n",
       "4                    None               1        106   \n",
       "\n",
       "                          description  \n",
       "0                                      \n",
       "1  I left earth🌍🌎🌏🗺️🧭 a while ago🌊...  \n",
       "2                                      \n",
       "3                                      \n",
       "4                                      "
      ]
     },
     "execution_count": 19,
     "metadata": {},
     "output_type": "execute_result"
    }
   ],
   "source": [
    "# checking dataframes to ensure proper data pull\n",
    "users_output_missy.head()"
   ]
  },
  {
   "cell_type": "code",
   "execution_count": 20,
   "id": "2311694f",
   "metadata": {},
   "outputs": [
    {
     "data": {
      "text/plain": [
       "'Home by Warsan Shire no one leaves home unless home is the mouth of a shark. you only run for the border when you see the whole city running as well.'"
      ]
     },
     "execution_count": 20,
     "metadata": {},
     "output_type": "execute_result"
    }
   ],
   "source": [
    "tricky_description = \"\"\"\n",
    "    Home by Warsan Shire\n",
    "    \n",
    "    no one leaves home unless\n",
    "    home is the mouth of a shark.\n",
    "    you only run for the border\n",
    "    when you see the whole city\n",
    "    running as well.\n",
    "\n",
    "\"\"\"\n",
    "# This won't work in a tab-delimited text file.\n",
    "\n",
    "clean_description = re.sub(r\"\\s+\",\" \",tricky_description).strip()\n",
    "clean_description"
   ]
  },
  {
   "cell_type": "markdown",
   "id": "45c13af3",
   "metadata": {},
   "source": [
    "# Lyrics Scrape\n",
    "\n",
    "This section asks you to pull data from the Twitter API and scrape www.AZLyrics.com. In the notebooks where you do that work you are asked to store the data in specific ways. "
   ]
  },
  {
   "cell_type": "code",
   "execution_count": 21,
   "id": "5bd7df77",
   "metadata": {},
   "outputs": [],
   "source": [
    "artists = {'robyn':\"https://www.azlyrics.com/m/mychemicalromance.html\",\n",
    "           'cher':\"https://www.azlyrics.com/m/missy.html\"} \n",
    "# we'll use this dictionary to hold both the artist name and the link on AZlyrics"
   ]
  },
  {
   "cell_type": "markdown",
   "id": "c236c99b",
   "metadata": {},
   "source": [
    "## A Note on Rate Limiting\n",
    "\n",
    "The lyrics site, www.azlyrics.com, does not have an explicit maximum on number of requests in any one time, but in our testing it appears that too many requests in too short a time will cause the site to stop returning lyrics pages. (Entertainingly, the page that gets returned seems to only have the song title to [a Tom Jones song](https://www.azlyrics.com/lyrics/tomjones/itsnotunusual.html).) \n",
    "\n",
    "Whenever you call `requests.get` to retrieve a page, put a `time.sleep(5 + 10*random.random())` on the next line. This will help you not to get blocked. If you _do_ get blocked, which you can identify if the returned pages are not correct, just request a lyrics page through your browser. You'll be asked to perform a CAPTCHA and then your requests should start working again. \n",
    "\n",
    "## Part 1: Finding Links to Songs Lyrics\n",
    "\n",
    "That general artist page has a list of all songs for that artist with links to the individual song pages. \n",
    "\n",
    "Q: Take a look at the `robots.txt` page on www.azlyrics.com. (You can read more about these pages [here](https://developers.google.com/search/docs/advanced/robots/intro).) Is the scraping we are about to do allowed or disallowed by this page? How do you know? \n",
    "\n",
    "A: <!-- Delete this comment and put your answer here. --> \n"
   ]
  },
  {
   "cell_type": "code",
   "execution_count": 22,
   "id": "ac9d31ec",
   "metadata": {},
   "outputs": [],
   "source": [
    "# Let's set up a dictionary of lists to hold our links\n",
    "lyrics_pages = defaultdict(list)\n",
    "\n",
    "for artist, artist_page in artists.items() :\n",
    "    # request the page and sleep\n",
    "    r = requests.get(artist_page)\n",
    "    time.sleep(5 + 10*random.random())\n",
    "\n",
    "    # now extract the links to lyrics pages from this page\n",
    "    # store the links `lyrics_pages` where the key is the artist and the\n",
    "    # value is a list of links. \n",
    "    "
   ]
  },
  {
   "cell_type": "markdown",
   "id": "9c285ec1",
   "metadata": {},
   "source": [
    "Let's make sure we have enough lyrics pages to scrape. "
   ]
  },
  {
   "cell_type": "code",
   "execution_count": 23,
   "id": "ae4cda68",
   "metadata": {},
   "outputs": [],
   "source": [
    "for artist, lp in lyrics_pages.items() :\n",
    "    assert(len(set(lp)) > 20) "
   ]
  },
  {
   "cell_type": "code",
   "execution_count": 24,
   "id": "edca10d6",
   "metadata": {},
   "outputs": [],
   "source": [
    "# Let's see how long it's going to take to pull these lyrics \n",
    "# if we're waiting `5 + 10*random.random()` seconds \n",
    "for artist, links in lyrics_pages.items() : \n",
    "    print(f\"For {artist} we have {len(links)}.\")\n",
    "    print(f\"The full pull will take for this artist will take {round(len(links)*10/3600,2)} hours.\")"
   ]
  },
  {
   "cell_type": "markdown",
   "id": "011be6c6",
   "metadata": {},
   "source": [
    "## Part 2: Pulling Lyrics\n",
    "\n",
    "Now that we have the links to our lyrics pages, let's go scrape them! Here are the steps for this part. \n",
    "\n",
    "1. Create an empty folder in our repo called \"lyrics\". \n",
    "1. Iterate over the artists in `lyrics_pages`. \n",
    "1. Create a subfolder in lyrics with the artist's name. For instance, if the artist was Cher you'd have `lyrics/cher/` in your repo.\n",
    "1. Iterate over the pages. \n",
    "1. Request the page and extract the lyrics from the returned HTML file using BeautifulSoup.\n",
    "1. Use the function below, `generate_filename_from_url`, to create a filename based on the lyrics page, then write the lyrics to a text file with that name. \n"
   ]
  },
  {
   "cell_type": "code",
   "execution_count": 25,
   "id": "67693711",
   "metadata": {},
   "outputs": [],
   "source": [
    "def generate_filename_from_link(link) :\n",
    "    \n",
    "    if not link :\n",
    "        return None\n",
    "    \n",
    "    # drop the http or https and the html\n",
    "    name = link.replace(\"https\",\"\").replace(\"http\",\"\")\n",
    "    name = link.replace(\".html\",\"\")\n",
    "\n",
    "    name = name.replace(\"/lyrics/\",\"\")\n",
    "    \n",
    "    # Replace useless chareacters with UNDERSCORE\n",
    "    name = name.replace(\"://\",\"\").replace(\".\",\"_\").replace(\"/\",\"_\")\n",
    "    \n",
    "    # tack on .txt\n",
    "    name = name + \".txt\"\n",
    "    \n",
    "    return(name)\n"
   ]
  },
  {
   "cell_type": "code",
   "execution_count": 26,
   "id": "94a78c78",
   "metadata": {},
   "outputs": [],
   "source": [
    "# Make the lyrics folder here. If you'd like to practice your programming, add functionality \n",
    "# that checks to see if the folder exists. If it does, then use shutil.rmtree to remove it and create a new one.\n",
    "\n",
    "if os.path.isdir(\"lyrics\") : \n",
    "    shutil.rmtree(\"lyrics/\")\n",
    "\n",
    "os.mkdir(\"lyrics\")"
   ]
  },
  {
   "cell_type": "code",
   "execution_count": 27,
   "id": "d655b687",
   "metadata": {},
   "outputs": [
    {
     "ename": "SyntaxError",
     "evalue": "unexpected EOF while parsing (<ipython-input-27-9e7b4f75ca4d>, line 20)",
     "output_type": "error",
     "traceback": [
      "\u001b[0;36m  File \u001b[0;32m\"<ipython-input-27-9e7b4f75ca4d>\"\u001b[0;36m, line \u001b[0;32m20\u001b[0m\n\u001b[0;31m    \u001b[0m\n\u001b[0m    ^\u001b[0m\n\u001b[0;31mSyntaxError\u001b[0m\u001b[0;31m:\u001b[0m unexpected EOF while parsing\n"
     ]
    }
   ],
   "source": [
    "url_stub = \"https://www.azlyrics.com\" \n",
    "start = time.time()\n",
    "\n",
    "total_pages = 0 \n",
    "\n",
    "for artist in lyrics_pages :\n",
    "\n",
    "    # Use this space to carry out the following steps: \n",
    "    \n",
    "    # 1. Build a subfolder for the artist\n",
    "    # 2. Iterate over the lyrics pages\n",
    "    # 3. Request the lyrics page. \n",
    "        # Don't forget to add a line like `time.sleep(5 + 10*random.random())`\n",
    "        # to sleep after making the request\n",
    "    # 4. Extract the title and lyrics from the page.\n",
    "    # 5. Write out the title, two returns ('\\n'), and the lyrics. Use `generate_filename_from_url`\n",
    "    #    to generate the filename. \n",
    "    \n",
    "    # Remember to pull at least 20 songs per artist. It may be fun to pull all the songs for the artist\n",
    "    "
   ]
  },
  {
   "cell_type": "code",
   "execution_count": null,
   "id": "36c394f1",
   "metadata": {},
   "outputs": [],
   "source": [
    "print(f\"Total run time was {round((time.time() - start)/3600,2)} hours.\")"
   ]
  },
  {
   "cell_type": "markdown",
   "id": "054cf14b",
   "metadata": {},
   "source": [
    "---\n",
    "\n",
    "# Evaluation\n",
    "\n",
    "This assignment asks you to pull data from the Twitter API and scrape www.AZLyrics.com.  After you have finished the above sections , run all the cells in this notebook. Print this to PDF and submit it, per the instructions."
   ]
  },
  {
   "cell_type": "code",
   "execution_count": null,
   "id": "217c2b0a",
   "metadata": {},
   "outputs": [],
   "source": [
    "# Simple word extractor from Peter Norvig: https://norvig.com/spell-correct.html\n",
    "def words(text): \n",
    "    return re.findall(r'\\w+', text.lower())"
   ]
  },
  {
   "cell_type": "markdown",
   "id": "9290b4c3",
   "metadata": {},
   "source": [
    "---\n",
    "\n",
    "## Checking Twitter Data\n",
    "\n",
    "The output from your Twitter API pull should be two files per artist, stored in files with formats like `cher_followers.txt` (a list of all follower IDs you pulled) and `cher_followers_data.txt`. These files should be in a folder named `twitter` within the repository directory. This code summarizes the information at a high level to help the instructor evaluate your work. "
   ]
  },
  {
   "cell_type": "code",
   "execution_count": null,
   "id": "d2174c46",
   "metadata": {},
   "outputs": [],
   "source": [
    "twitter_files = os.listdir(\"twitter\")\n",
    "twitter_files = [f for f in twitter_files if f != \".DS_Store\"]\n",
    "artist_handles = list(set([name.split(\"_\")[0] for name in twitter_files]))\n",
    "\n",
    "print(f\"We see two artist handles: {artist_handles[0]} and {artist_handles[1]}.\")"
   ]
  },
  {
   "cell_type": "code",
   "execution_count": null,
   "id": "7ad545be",
   "metadata": {},
   "outputs": [],
   "source": [
    "for artist in artist_handles :\n",
    "    follower_file = artist + \"_followers.txt\"\n",
    "    follower_data_file = artist + \"_followers_data.txt\"\n",
    "    \n",
    "    ids = open(\"twitter/\" + follower_file,'r').readlines()\n",
    "    \n",
    "    print(f\"We see {len(ids)-1} in your follower file for {artist}, assuming a header row.\")\n",
    "    \n",
    "    with open(\"twitter/\" + follower_data_file,'r') as infile :\n",
    "        \n",
    "        # check the headers\n",
    "        headers = infile.readline().split(\"\\t\")\n",
    "        \n",
    "        print(f\"In the follower data file ({follower_data_file}) for {artist}, we have these columns:\")\n",
    "        print(\" : \".join(headers))\n",
    "        \n",
    "        description_words = []\n",
    "        locations = set()\n",
    "        \n",
    "        \n",
    "        for idx, line in enumerate(infile.readlines()) :\n",
    "            line = line.strip(\"\\n\").split(\"\\t\")\n",
    "            \n",
    "            try : \n",
    "                locations.add(line[3])            \n",
    "                description_words.extend(words(line[6]))\n",
    "            except :\n",
    "                pass\n",
    "    \n",
    "        \n",
    "\n",
    "        print(f\"We have {idx+1} data rows for {artist} in the follower data file.\")\n",
    "\n",
    "        print(f\"For {artist} we have {len(locations)} unique locations.\")\n",
    "\n",
    "        print(f\"For {artist} we have {len(description_words)} words in the descriptions.\")\n",
    "        print(\"Here are the five most common words:\")\n",
    "        print(Counter(description_words).most_common(5))\n",
    "\n",
    "        \n",
    "        print(\"\")\n",
    "        print(\"-\"*40)\n",
    "        print(\"\")\n",
    "    "
   ]
  },
  {
   "cell_type": "markdown",
   "id": "37778a1c",
   "metadata": {},
   "source": [
    "## Checking Lyrics \n",
    "\n",
    "The output from your lyrics scrape should be stored in files located in this path from the directory:\n",
    "`/lyrics/[Artist Name]/[filename from URL]`. This code summarizes the information at a high level to help the instructor evaluate your work. "
   ]
  },
  {
   "cell_type": "code",
   "execution_count": null,
   "id": "bccac29c",
   "metadata": {},
   "outputs": [],
   "source": [
    "artist_folders = os.listdir(\"lyrics/\")\n",
    "artist_folders = [f for f in artist_folders if os.path.isdir(\"lyrics/\" + f)]\n",
    "\n",
    "for artist in artist_folders : \n",
    "    artist_files = os.listdir(\"lyrics/\" + artist)\n",
    "    artist_files = [f for f in artist_files if 'txt' in f or 'csv' in f or 'tsv' in f]\n",
    "\n",
    "    print(f\"For {artist} we have {len(artist_files)} files.\")\n",
    "\n",
    "    artist_words = []\n",
    "\n",
    "    for f_name in artist_files : \n",
    "        with open(\"lyrics/\" + artist + \"/\" + f_name) as infile : \n",
    "            artist_words.extend(words(infile.read()))\n",
    "\n",
    "            \n",
    "    print(f\"For {artist} we have roughly {len(artist_words)} words, {len(set(artist_words))} are unique.\")\n"
   ]
  }
 ],
 "metadata": {
  "kernelspec": {
   "display_name": "Python 3",
   "language": "python",
   "name": "python3"
  },
  "language_info": {
   "codemirror_mode": {
    "name": "ipython",
    "version": 3
   },
   "file_extension": ".py",
   "mimetype": "text/x-python",
   "name": "python",
   "nbconvert_exporter": "python",
   "pygments_lexer": "ipython3",
   "version": "3.8.8"
  }
 },
 "nbformat": 4,
 "nbformat_minor": 5
}
